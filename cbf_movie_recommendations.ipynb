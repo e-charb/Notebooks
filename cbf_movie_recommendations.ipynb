{
  "nbformat": 4,
  "nbformat_minor": 0,
  "metadata": {
    "colab": {
      "provenance": [],
      "collapsed_sections": [
        "u0FdRm7IjSbO",
        "F2fq5V6iAbtA",
        "aMrrg1GqnKyy",
        "MoTUlYH6yDs-",
        "oLUR2NdSVKxT"
      ],
      "gpuType": "T4",
      "mount_file_id": "1NaxkCDvWfJsZgNJJtZcnVRqx-P1z4qAz",
      "authorship_tag": "ABX9TyPxje4xQwjVPJj8s7JhFZE/",
      "include_colab_link": true
    },
    "kernelspec": {
      "name": "python3",
      "display_name": "Python 3"
    },
    "language_info": {
      "name": "python"
    },
    "accelerator": "GPU"
  },
  "cells": [
    {
      "cell_type": "markdown",
      "metadata": {
        "id": "view-in-github",
        "colab_type": "text"
      },
      "source": [
        "<a href=\"https://colab.research.google.com/github/e-charb/Notebooks/blob/main/cbf_movie_recommendations.ipynb\" target=\"_parent\"><img src=\"https://colab.research.google.com/assets/colab-badge.svg\" alt=\"Open In Colab\"/></a>"
      ]
    },
    {
      "cell_type": "markdown",
      "source": [
        "# Movie Recommendations!\n",
        "\n",
        "Let's create a movie recommendation system using a content-based filtering approach. This technique generates recommendations based on the interests of the users. For a great introduction to this topic, check out [this course from  Google](https://developers.google.com/machine-learning/recommendation/content-based/basics).\n",
        "\n",
        "\n",
        "We'll be using the [The Movies Dataset](https://www.kaggle.com/datasets/rounakbanik/the-movies-dataset/data) containing metadata on over 45,000 movies."
      ],
      "metadata": {
        "id": "cyxpSxwNvqsE"
      }
    },
    {
      "cell_type": "markdown",
      "source": [
        "To start, we'll import some libraries to help us read and work with the data."
      ],
      "metadata": {
        "id": "iE168f6XssHr"
      }
    },
    {
      "cell_type": "code",
      "execution_count": null,
      "metadata": {
        "id": "jYpOhj1au17q"
      },
      "outputs": [],
      "source": [
        "import numpy as np\n",
        "import pandas as pd\n",
        "import matplotlib.pyplot as plt\n",
        "import seaborn as sns\n",
        "from ast import literal_eval\n",
        "from sklearn.feature_extraction.text import TfidfVectorizer, CountVectorizer\n",
        "from sklearn.metrics.pairwise import linear_kernel, cosine_similarity"
      ]
    },
    {
      "cell_type": "markdown",
      "source": [
        "#Extract"
      ],
      "metadata": {
        "id": "u0FdRm7IjSbO"
      }
    },
    {
      "cell_type": "code",
      "source": [
        "df_metadata = pd.read_csv('/content/drive/MyDrive/data_science/movie_recommendation/movie_data/movies_metadata.csv')\n",
        "df_credits = pd.read_csv('/content/drive/MyDrive/data_science/movie_recommendation/movie_data/credits.csv',dtype={'id':'object'})\n",
        "df_keywords = pd.read_csv('/content/drive/MyDrive/data_science/movie_recommendation/movie_data/keywords.csv',dtype={'id':'object'})"
      ],
      "metadata": {
        "id": "T4mfOSSTu42N"
      },
      "execution_count": null,
      "outputs": []
    },
    {
      "cell_type": "code",
      "source": [
        "df_metadata.shape"
      ],
      "metadata": {
        "colab": {
          "base_uri": "https://localhost:8080/"
        },
        "id": "A4T3Z5oV_jRD",
        "outputId": "46bfe313-44a6-406f-e008-00b9839d20e2"
      },
      "execution_count": null,
      "outputs": [
        {
          "output_type": "execute_result",
          "data": {
            "text/plain": [
              "(45466, 24)"
            ]
          },
          "metadata": {},
          "execution_count": 296
        }
      ]
    },
    {
      "cell_type": "code",
      "source": [
        "df_metadata.info()"
      ],
      "metadata": {
        "colab": {
          "base_uri": "https://localhost:8080/"
        },
        "id": "WBZf9fELx7lr",
        "outputId": "8d0faba8-6cac-476c-bdb6-e1de0a805bf8"
      },
      "execution_count": null,
      "outputs": [
        {
          "output_type": "stream",
          "name": "stdout",
          "text": [
            "<class 'pandas.core.frame.DataFrame'>\n",
            "RangeIndex: 45466 entries, 0 to 45465\n",
            "Data columns (total 24 columns):\n",
            " #   Column                 Non-Null Count  Dtype  \n",
            "---  ------                 --------------  -----  \n",
            " 0   adult                  45466 non-null  object \n",
            " 1   belongs_to_collection  4494 non-null   object \n",
            " 2   budget                 45466 non-null  object \n",
            " 3   genres                 45466 non-null  object \n",
            " 4   homepage               7782 non-null   object \n",
            " 5   id                     45466 non-null  object \n",
            " 6   imdb_id                45449 non-null  object \n",
            " 7   original_language      45455 non-null  object \n",
            " 8   original_title         45466 non-null  object \n",
            " 9   overview               44512 non-null  object \n",
            " 10  popularity             45461 non-null  object \n",
            " 11  poster_path            45080 non-null  object \n",
            " 12  production_companies   45463 non-null  object \n",
            " 13  production_countries   45463 non-null  object \n",
            " 14  release_date           45379 non-null  object \n",
            " 15  revenue                45460 non-null  float64\n",
            " 16  runtime                45203 non-null  float64\n",
            " 17  spoken_languages       45460 non-null  object \n",
            " 18  status                 45379 non-null  object \n",
            " 19  tagline                20412 non-null  object \n",
            " 20  title                  45460 non-null  object \n",
            " 21  video                  45460 non-null  object \n",
            " 22  vote_average           45460 non-null  float64\n",
            " 23  vote_count             45460 non-null  float64\n",
            "dtypes: float64(4), object(20)\n",
            "memory usage: 8.3+ MB\n"
          ]
        }
      ]
    },
    {
      "cell_type": "code",
      "source": [
        "df_credits.info()"
      ],
      "metadata": {
        "colab": {
          "base_uri": "https://localhost:8080/"
        },
        "id": "LPWQ2cqSm2tp",
        "outputId": "440d6329-f6d0-4b4f-f80e-2f80eaea8761"
      },
      "execution_count": null,
      "outputs": [
        {
          "output_type": "stream",
          "name": "stdout",
          "text": [
            "<class 'pandas.core.frame.DataFrame'>\n",
            "RangeIndex: 45476 entries, 0 to 45475\n",
            "Data columns (total 3 columns):\n",
            " #   Column  Non-Null Count  Dtype \n",
            "---  ------  --------------  ----- \n",
            " 0   cast    45476 non-null  object\n",
            " 1   crew    45476 non-null  object\n",
            " 2   id      45476 non-null  object\n",
            "dtypes: object(3)\n",
            "memory usage: 1.0+ MB\n"
          ]
        }
      ]
    },
    {
      "cell_type": "code",
      "source": [
        "df_keywords.info()"
      ],
      "metadata": {
        "colab": {
          "base_uri": "https://localhost:8080/"
        },
        "id": "4GASBvdOm4qI",
        "outputId": "5d567856-2319-4f68-f34b-2a58cad212ae"
      },
      "execution_count": null,
      "outputs": [
        {
          "output_type": "stream",
          "name": "stdout",
          "text": [
            "<class 'pandas.core.frame.DataFrame'>\n",
            "RangeIndex: 46419 entries, 0 to 46418\n",
            "Data columns (total 2 columns):\n",
            " #   Column    Non-Null Count  Dtype \n",
            "---  ------    --------------  ----- \n",
            " 0   id        46419 non-null  object\n",
            " 1   keywords  46419 non-null  object\n",
            "dtypes: object(2)\n",
            "memory usage: 725.4+ KB\n"
          ]
        }
      ]
    },
    {
      "cell_type": "markdown",
      "source": [
        "#Transform\n",
        "\n",
        "In this section, we will get our data ready for use. This includes:\n",
        "\n",
        "\n",
        "*   Joining the datasets\n",
        "*   Converting datatypes where appropriate\n",
        "*   Filtering the data\n",
        "*   Replacing values where necessary\n",
        "*   Removing duplicate rows\n",
        "\n"
      ],
      "metadata": {
        "id": "F2fq5V6iAbtA"
      }
    },
    {
      "cell_type": "markdown",
      "source": [
        "## Joining the datasets\n",
        "\n",
        "Let's combine these datasets on the 'id' column:"
      ],
      "metadata": {
        "id": "aMrrg1GqnKyy"
      }
    },
    {
      "cell_type": "code",
      "source": [
        "df2 = pd.merge(pd.merge(df_metadata,df_credits,how='left',on='id'),df_keywords,how='left',on='id')"
      ],
      "metadata": {
        "id": "kqI786ZepS91"
      },
      "execution_count": null,
      "outputs": []
    },
    {
      "cell_type": "code",
      "source": [
        "df2.head()"
      ],
      "metadata": {
        "colab": {
          "base_uri": "https://localhost:8080/",
          "height": 724
        },
        "id": "1yEWTnatSO9d",
        "outputId": "39e89238-0ae8-4f05-f4e2-ecee9095c1fe"
      },
      "execution_count": null,
      "outputs": [
        {
          "output_type": "execute_result",
          "data": {
            "text/plain": [
              "   adult                              belongs_to_collection    budget  \\\n",
              "0  False  {'id': 10194, 'name': 'Toy Story Collection', ...  30000000   \n",
              "1  False                                                NaN  65000000   \n",
              "2  False  {'id': 119050, 'name': 'Grumpy Old Men Collect...         0   \n",
              "3  False                                                NaN  16000000   \n",
              "4  False  {'id': 96871, 'name': 'Father of the Bride Col...         0   \n",
              "\n",
              "                                              genres  \\\n",
              "0  [{'id': 16, 'name': 'Animation'}, {'id': 35, '...   \n",
              "1  [{'id': 12, 'name': 'Adventure'}, {'id': 14, '...   \n",
              "2  [{'id': 10749, 'name': 'Romance'}, {'id': 35, ...   \n",
              "3  [{'id': 35, 'name': 'Comedy'}, {'id': 18, 'nam...   \n",
              "4                     [{'id': 35, 'name': 'Comedy'}]   \n",
              "\n",
              "                               homepage     id    imdb_id original_language  \\\n",
              "0  http://toystory.disney.com/toy-story    862  tt0114709                en   \n",
              "1                                   NaN   8844  tt0113497                en   \n",
              "2                                   NaN  15602  tt0113228                en   \n",
              "3                                   NaN  31357  tt0114885                en   \n",
              "4                                   NaN  11862  tt0113041                en   \n",
              "\n",
              "                original_title  \\\n",
              "0                    Toy Story   \n",
              "1                      Jumanji   \n",
              "2             Grumpier Old Men   \n",
              "3            Waiting to Exhale   \n",
              "4  Father of the Bride Part II   \n",
              "\n",
              "                                            overview  ...  \\\n",
              "0  Led by Woody, Andy's toys live happily in his ...  ...   \n",
              "1  When siblings Judy and Peter discover an encha...  ...   \n",
              "2  A family wedding reignites the ancient feud be...  ...   \n",
              "3  Cheated on, mistreated and stepped on, the wom...  ...   \n",
              "4  Just when George Banks has recovered from his ...  ...   \n",
              "\n",
              "                                    spoken_languages    status  \\\n",
              "0           [{'iso_639_1': 'en', 'name': 'English'}]  Released   \n",
              "1  [{'iso_639_1': 'en', 'name': 'English'}, {'iso...  Released   \n",
              "2           [{'iso_639_1': 'en', 'name': 'English'}]  Released   \n",
              "3           [{'iso_639_1': 'en', 'name': 'English'}]  Released   \n",
              "4           [{'iso_639_1': 'en', 'name': 'English'}]  Released   \n",
              "\n",
              "                                             tagline  \\\n",
              "0                                                NaN   \n",
              "1          Roll the dice and unleash the excitement!   \n",
              "2  Still Yelling. Still Fighting. Still Ready for...   \n",
              "3  Friends are the people who let you be yourself...   \n",
              "4  Just When His World Is Back To Normal... He's ...   \n",
              "\n",
              "                         title  video  vote_average  vote_count  \\\n",
              "0                    Toy Story  False           7.7      5415.0   \n",
              "1                      Jumanji  False           6.9      2413.0   \n",
              "2             Grumpier Old Men  False           6.5        92.0   \n",
              "3            Waiting to Exhale  False           6.1        34.0   \n",
              "4  Father of the Bride Part II  False           5.7       173.0   \n",
              "\n",
              "                                                cast  \\\n",
              "0  [{'cast_id': 14, 'character': 'Woody (voice)',...   \n",
              "1  [{'cast_id': 1, 'character': 'Alan Parrish', '...   \n",
              "2  [{'cast_id': 2, 'character': 'Max Goldman', 'c...   \n",
              "3  [{'cast_id': 1, 'character': \"Savannah 'Vannah...   \n",
              "4  [{'cast_id': 1, 'character': 'George Banks', '...   \n",
              "\n",
              "                                                crew  \\\n",
              "0  [{'credit_id': '52fe4284c3a36847f8024f49', 'de...   \n",
              "1  [{'credit_id': '52fe44bfc3a36847f80a7cd1', 'de...   \n",
              "2  [{'credit_id': '52fe466a9251416c75077a89', 'de...   \n",
              "3  [{'credit_id': '52fe44779251416c91011acb', 'de...   \n",
              "4  [{'credit_id': '52fe44959251416c75039ed7', 'de...   \n",
              "\n",
              "                                            keywords  \n",
              "0  [{'id': 931, 'name': 'jealousy'}, {'id': 4290,...  \n",
              "1  [{'id': 10090, 'name': 'board game'}, {'id': 1...  \n",
              "2  [{'id': 1495, 'name': 'fishing'}, {'id': 12392...  \n",
              "3  [{'id': 818, 'name': 'based on novel'}, {'id':...  \n",
              "4  [{'id': 1009, 'name': 'baby'}, {'id': 1599, 'n...  \n",
              "\n",
              "[5 rows x 27 columns]"
            ],
            "text/html": [
              "\n",
              "  <div id=\"df-d763b708-f61c-47f7-81f9-1720d5141cb8\" class=\"colab-df-container\">\n",
              "    <div>\n",
              "<style scoped>\n",
              "    .dataframe tbody tr th:only-of-type {\n",
              "        vertical-align: middle;\n",
              "    }\n",
              "\n",
              "    .dataframe tbody tr th {\n",
              "        vertical-align: top;\n",
              "    }\n",
              "\n",
              "    .dataframe thead th {\n",
              "        text-align: right;\n",
              "    }\n",
              "</style>\n",
              "<table border=\"1\" class=\"dataframe\">\n",
              "  <thead>\n",
              "    <tr style=\"text-align: right;\">\n",
              "      <th></th>\n",
              "      <th>adult</th>\n",
              "      <th>belongs_to_collection</th>\n",
              "      <th>budget</th>\n",
              "      <th>genres</th>\n",
              "      <th>homepage</th>\n",
              "      <th>id</th>\n",
              "      <th>imdb_id</th>\n",
              "      <th>original_language</th>\n",
              "      <th>original_title</th>\n",
              "      <th>overview</th>\n",
              "      <th>...</th>\n",
              "      <th>spoken_languages</th>\n",
              "      <th>status</th>\n",
              "      <th>tagline</th>\n",
              "      <th>title</th>\n",
              "      <th>video</th>\n",
              "      <th>vote_average</th>\n",
              "      <th>vote_count</th>\n",
              "      <th>cast</th>\n",
              "      <th>crew</th>\n",
              "      <th>keywords</th>\n",
              "    </tr>\n",
              "  </thead>\n",
              "  <tbody>\n",
              "    <tr>\n",
              "      <th>0</th>\n",
              "      <td>False</td>\n",
              "      <td>{'id': 10194, 'name': 'Toy Story Collection', ...</td>\n",
              "      <td>30000000</td>\n",
              "      <td>[{'id': 16, 'name': 'Animation'}, {'id': 35, '...</td>\n",
              "      <td>http://toystory.disney.com/toy-story</td>\n",
              "      <td>862</td>\n",
              "      <td>tt0114709</td>\n",
              "      <td>en</td>\n",
              "      <td>Toy Story</td>\n",
              "      <td>Led by Woody, Andy's toys live happily in his ...</td>\n",
              "      <td>...</td>\n",
              "      <td>[{'iso_639_1': 'en', 'name': 'English'}]</td>\n",
              "      <td>Released</td>\n",
              "      <td>NaN</td>\n",
              "      <td>Toy Story</td>\n",
              "      <td>False</td>\n",
              "      <td>7.7</td>\n",
              "      <td>5415.0</td>\n",
              "      <td>[{'cast_id': 14, 'character': 'Woody (voice)',...</td>\n",
              "      <td>[{'credit_id': '52fe4284c3a36847f8024f49', 'de...</td>\n",
              "      <td>[{'id': 931, 'name': 'jealousy'}, {'id': 4290,...</td>\n",
              "    </tr>\n",
              "    <tr>\n",
              "      <th>1</th>\n",
              "      <td>False</td>\n",
              "      <td>NaN</td>\n",
              "      <td>65000000</td>\n",
              "      <td>[{'id': 12, 'name': 'Adventure'}, {'id': 14, '...</td>\n",
              "      <td>NaN</td>\n",
              "      <td>8844</td>\n",
              "      <td>tt0113497</td>\n",
              "      <td>en</td>\n",
              "      <td>Jumanji</td>\n",
              "      <td>When siblings Judy and Peter discover an encha...</td>\n",
              "      <td>...</td>\n",
              "      <td>[{'iso_639_1': 'en', 'name': 'English'}, {'iso...</td>\n",
              "      <td>Released</td>\n",
              "      <td>Roll the dice and unleash the excitement!</td>\n",
              "      <td>Jumanji</td>\n",
              "      <td>False</td>\n",
              "      <td>6.9</td>\n",
              "      <td>2413.0</td>\n",
              "      <td>[{'cast_id': 1, 'character': 'Alan Parrish', '...</td>\n",
              "      <td>[{'credit_id': '52fe44bfc3a36847f80a7cd1', 'de...</td>\n",
              "      <td>[{'id': 10090, 'name': 'board game'}, {'id': 1...</td>\n",
              "    </tr>\n",
              "    <tr>\n",
              "      <th>2</th>\n",
              "      <td>False</td>\n",
              "      <td>{'id': 119050, 'name': 'Grumpy Old Men Collect...</td>\n",
              "      <td>0</td>\n",
              "      <td>[{'id': 10749, 'name': 'Romance'}, {'id': 35, ...</td>\n",
              "      <td>NaN</td>\n",
              "      <td>15602</td>\n",
              "      <td>tt0113228</td>\n",
              "      <td>en</td>\n",
              "      <td>Grumpier Old Men</td>\n",
              "      <td>A family wedding reignites the ancient feud be...</td>\n",
              "      <td>...</td>\n",
              "      <td>[{'iso_639_1': 'en', 'name': 'English'}]</td>\n",
              "      <td>Released</td>\n",
              "      <td>Still Yelling. Still Fighting. Still Ready for...</td>\n",
              "      <td>Grumpier Old Men</td>\n",
              "      <td>False</td>\n",
              "      <td>6.5</td>\n",
              "      <td>92.0</td>\n",
              "      <td>[{'cast_id': 2, 'character': 'Max Goldman', 'c...</td>\n",
              "      <td>[{'credit_id': '52fe466a9251416c75077a89', 'de...</td>\n",
              "      <td>[{'id': 1495, 'name': 'fishing'}, {'id': 12392...</td>\n",
              "    </tr>\n",
              "    <tr>\n",
              "      <th>3</th>\n",
              "      <td>False</td>\n",
              "      <td>NaN</td>\n",
              "      <td>16000000</td>\n",
              "      <td>[{'id': 35, 'name': 'Comedy'}, {'id': 18, 'nam...</td>\n",
              "      <td>NaN</td>\n",
              "      <td>31357</td>\n",
              "      <td>tt0114885</td>\n",
              "      <td>en</td>\n",
              "      <td>Waiting to Exhale</td>\n",
              "      <td>Cheated on, mistreated and stepped on, the wom...</td>\n",
              "      <td>...</td>\n",
              "      <td>[{'iso_639_1': 'en', 'name': 'English'}]</td>\n",
              "      <td>Released</td>\n",
              "      <td>Friends are the people who let you be yourself...</td>\n",
              "      <td>Waiting to Exhale</td>\n",
              "      <td>False</td>\n",
              "      <td>6.1</td>\n",
              "      <td>34.0</td>\n",
              "      <td>[{'cast_id': 1, 'character': \"Savannah 'Vannah...</td>\n",
              "      <td>[{'credit_id': '52fe44779251416c91011acb', 'de...</td>\n",
              "      <td>[{'id': 818, 'name': 'based on novel'}, {'id':...</td>\n",
              "    </tr>\n",
              "    <tr>\n",
              "      <th>4</th>\n",
              "      <td>False</td>\n",
              "      <td>{'id': 96871, 'name': 'Father of the Bride Col...</td>\n",
              "      <td>0</td>\n",
              "      <td>[{'id': 35, 'name': 'Comedy'}]</td>\n",
              "      <td>NaN</td>\n",
              "      <td>11862</td>\n",
              "      <td>tt0113041</td>\n",
              "      <td>en</td>\n",
              "      <td>Father of the Bride Part II</td>\n",
              "      <td>Just when George Banks has recovered from his ...</td>\n",
              "      <td>...</td>\n",
              "      <td>[{'iso_639_1': 'en', 'name': 'English'}]</td>\n",
              "      <td>Released</td>\n",
              "      <td>Just When His World Is Back To Normal... He's ...</td>\n",
              "      <td>Father of the Bride Part II</td>\n",
              "      <td>False</td>\n",
              "      <td>5.7</td>\n",
              "      <td>173.0</td>\n",
              "      <td>[{'cast_id': 1, 'character': 'George Banks', '...</td>\n",
              "      <td>[{'credit_id': '52fe44959251416c75039ed7', 'de...</td>\n",
              "      <td>[{'id': 1009, 'name': 'baby'}, {'id': 1599, 'n...</td>\n",
              "    </tr>\n",
              "  </tbody>\n",
              "</table>\n",
              "<p>5 rows × 27 columns</p>\n",
              "</div>\n",
              "    <div class=\"colab-df-buttons\">\n",
              "\n",
              "  <div class=\"colab-df-container\">\n",
              "    <button class=\"colab-df-convert\" onclick=\"convertToInteractive('df-d763b708-f61c-47f7-81f9-1720d5141cb8')\"\n",
              "            title=\"Convert this dataframe to an interactive table.\"\n",
              "            style=\"display:none;\">\n",
              "\n",
              "  <svg xmlns=\"http://www.w3.org/2000/svg\" height=\"24px\" viewBox=\"0 -960 960 960\">\n",
              "    <path d=\"M120-120v-720h720v720H120Zm60-500h600v-160H180v160Zm220 220h160v-160H400v160Zm0 220h160v-160H400v160ZM180-400h160v-160H180v160Zm440 0h160v-160H620v160ZM180-180h160v-160H180v160Zm440 0h160v-160H620v160Z\"/>\n",
              "  </svg>\n",
              "    </button>\n",
              "\n",
              "  <style>\n",
              "    .colab-df-container {\n",
              "      display:flex;\n",
              "      gap: 12px;\n",
              "    }\n",
              "\n",
              "    .colab-df-convert {\n",
              "      background-color: #E8F0FE;\n",
              "      border: none;\n",
              "      border-radius: 50%;\n",
              "      cursor: pointer;\n",
              "      display: none;\n",
              "      fill: #1967D2;\n",
              "      height: 32px;\n",
              "      padding: 0 0 0 0;\n",
              "      width: 32px;\n",
              "    }\n",
              "\n",
              "    .colab-df-convert:hover {\n",
              "      background-color: #E2EBFA;\n",
              "      box-shadow: 0px 1px 2px rgba(60, 64, 67, 0.3), 0px 1px 3px 1px rgba(60, 64, 67, 0.15);\n",
              "      fill: #174EA6;\n",
              "    }\n",
              "\n",
              "    .colab-df-buttons div {\n",
              "      margin-bottom: 4px;\n",
              "    }\n",
              "\n",
              "    [theme=dark] .colab-df-convert {\n",
              "      background-color: #3B4455;\n",
              "      fill: #D2E3FC;\n",
              "    }\n",
              "\n",
              "    [theme=dark] .colab-df-convert:hover {\n",
              "      background-color: #434B5C;\n",
              "      box-shadow: 0px 1px 3px 1px rgba(0, 0, 0, 0.15);\n",
              "      filter: drop-shadow(0px 1px 2px rgba(0, 0, 0, 0.3));\n",
              "      fill: #FFFFFF;\n",
              "    }\n",
              "  </style>\n",
              "\n",
              "    <script>\n",
              "      const buttonEl =\n",
              "        document.querySelector('#df-d763b708-f61c-47f7-81f9-1720d5141cb8 button.colab-df-convert');\n",
              "      buttonEl.style.display =\n",
              "        google.colab.kernel.accessAllowed ? 'block' : 'none';\n",
              "\n",
              "      async function convertToInteractive(key) {\n",
              "        const element = document.querySelector('#df-d763b708-f61c-47f7-81f9-1720d5141cb8');\n",
              "        const dataTable =\n",
              "          await google.colab.kernel.invokeFunction('convertToInteractive',\n",
              "                                                    [key], {});\n",
              "        if (!dataTable) return;\n",
              "\n",
              "        const docLinkHtml = 'Like what you see? Visit the ' +\n",
              "          '<a target=\"_blank\" href=https://colab.research.google.com/notebooks/data_table.ipynb>data table notebook</a>'\n",
              "          + ' to learn more about interactive tables.';\n",
              "        element.innerHTML = '';\n",
              "        dataTable['output_type'] = 'display_data';\n",
              "        await google.colab.output.renderOutput(dataTable, element);\n",
              "        const docLink = document.createElement('div');\n",
              "        docLink.innerHTML = docLinkHtml;\n",
              "        element.appendChild(docLink);\n",
              "      }\n",
              "    </script>\n",
              "  </div>\n",
              "\n",
              "\n",
              "    <div id=\"df-4462e574-0ad3-4c7e-8f6a-b221bdef1020\">\n",
              "      <button class=\"colab-df-quickchart\" onclick=\"quickchart('df-4462e574-0ad3-4c7e-8f6a-b221bdef1020')\"\n",
              "                title=\"Suggest charts\"\n",
              "                style=\"display:none;\">\n",
              "\n",
              "<svg xmlns=\"http://www.w3.org/2000/svg\" height=\"24px\"viewBox=\"0 0 24 24\"\n",
              "     width=\"24px\">\n",
              "    <g>\n",
              "        <path d=\"M19 3H5c-1.1 0-2 .9-2 2v14c0 1.1.9 2 2 2h14c1.1 0 2-.9 2-2V5c0-1.1-.9-2-2-2zM9 17H7v-7h2v7zm4 0h-2V7h2v10zm4 0h-2v-4h2v4z\"/>\n",
              "    </g>\n",
              "</svg>\n",
              "      </button>\n",
              "\n",
              "<style>\n",
              "  .colab-df-quickchart {\n",
              "      --bg-color: #E8F0FE;\n",
              "      --fill-color: #1967D2;\n",
              "      --hover-bg-color: #E2EBFA;\n",
              "      --hover-fill-color: #174EA6;\n",
              "      --disabled-fill-color: #AAA;\n",
              "      --disabled-bg-color: #DDD;\n",
              "  }\n",
              "\n",
              "  [theme=dark] .colab-df-quickchart {\n",
              "      --bg-color: #3B4455;\n",
              "      --fill-color: #D2E3FC;\n",
              "      --hover-bg-color: #434B5C;\n",
              "      --hover-fill-color: #FFFFFF;\n",
              "      --disabled-bg-color: #3B4455;\n",
              "      --disabled-fill-color: #666;\n",
              "  }\n",
              "\n",
              "  .colab-df-quickchart {\n",
              "    background-color: var(--bg-color);\n",
              "    border: none;\n",
              "    border-radius: 50%;\n",
              "    cursor: pointer;\n",
              "    display: none;\n",
              "    fill: var(--fill-color);\n",
              "    height: 32px;\n",
              "    padding: 0;\n",
              "    width: 32px;\n",
              "  }\n",
              "\n",
              "  .colab-df-quickchart:hover {\n",
              "    background-color: var(--hover-bg-color);\n",
              "    box-shadow: 0 1px 2px rgba(60, 64, 67, 0.3), 0 1px 3px 1px rgba(60, 64, 67, 0.15);\n",
              "    fill: var(--button-hover-fill-color);\n",
              "  }\n",
              "\n",
              "  .colab-df-quickchart-complete:disabled,\n",
              "  .colab-df-quickchart-complete:disabled:hover {\n",
              "    background-color: var(--disabled-bg-color);\n",
              "    fill: var(--disabled-fill-color);\n",
              "    box-shadow: none;\n",
              "  }\n",
              "\n",
              "  .colab-df-spinner {\n",
              "    border: 2px solid var(--fill-color);\n",
              "    border-color: transparent;\n",
              "    border-bottom-color: var(--fill-color);\n",
              "    animation:\n",
              "      spin 1s steps(1) infinite;\n",
              "  }\n",
              "\n",
              "  @keyframes spin {\n",
              "    0% {\n",
              "      border-color: transparent;\n",
              "      border-bottom-color: var(--fill-color);\n",
              "      border-left-color: var(--fill-color);\n",
              "    }\n",
              "    20% {\n",
              "      border-color: transparent;\n",
              "      border-left-color: var(--fill-color);\n",
              "      border-top-color: var(--fill-color);\n",
              "    }\n",
              "    30% {\n",
              "      border-color: transparent;\n",
              "      border-left-color: var(--fill-color);\n",
              "      border-top-color: var(--fill-color);\n",
              "      border-right-color: var(--fill-color);\n",
              "    }\n",
              "    40% {\n",
              "      border-color: transparent;\n",
              "      border-right-color: var(--fill-color);\n",
              "      border-top-color: var(--fill-color);\n",
              "    }\n",
              "    60% {\n",
              "      border-color: transparent;\n",
              "      border-right-color: var(--fill-color);\n",
              "    }\n",
              "    80% {\n",
              "      border-color: transparent;\n",
              "      border-right-color: var(--fill-color);\n",
              "      border-bottom-color: var(--fill-color);\n",
              "    }\n",
              "    90% {\n",
              "      border-color: transparent;\n",
              "      border-bottom-color: var(--fill-color);\n",
              "    }\n",
              "  }\n",
              "</style>\n",
              "\n",
              "      <script>\n",
              "        async function quickchart(key) {\n",
              "          const quickchartButtonEl =\n",
              "            document.querySelector('#' + key + ' button');\n",
              "          quickchartButtonEl.disabled = true;  // To prevent multiple clicks.\n",
              "          quickchartButtonEl.classList.add('colab-df-spinner');\n",
              "          try {\n",
              "            const charts = await google.colab.kernel.invokeFunction(\n",
              "                'suggestCharts', [key], {});\n",
              "          } catch (error) {\n",
              "            console.error('Error during call to suggestCharts:', error);\n",
              "          }\n",
              "          quickchartButtonEl.classList.remove('colab-df-spinner');\n",
              "          quickchartButtonEl.classList.add('colab-df-quickchart-complete');\n",
              "        }\n",
              "        (() => {\n",
              "          let quickchartButtonEl =\n",
              "            document.querySelector('#df-4462e574-0ad3-4c7e-8f6a-b221bdef1020 button');\n",
              "          quickchartButtonEl.style.display =\n",
              "            google.colab.kernel.accessAllowed ? 'block' : 'none';\n",
              "        })();\n",
              "      </script>\n",
              "    </div>\n",
              "\n",
              "    </div>\n",
              "  </div>\n"
            ],
            "application/vnd.google.colaboratory.intrinsic+json": {
              "type": "dataframe",
              "variable_name": "df2"
            }
          },
          "metadata": {},
          "execution_count": 61
        }
      ]
    },
    {
      "cell_type": "code",
      "source": [
        "df2.info()"
      ],
      "metadata": {
        "colab": {
          "base_uri": "https://localhost:8080/"
        },
        "id": "46szGZ68jo76",
        "outputId": "e24f2a1b-bebd-4c96-a80d-e14ad01d17ad"
      },
      "execution_count": null,
      "outputs": [
        {
          "output_type": "stream",
          "name": "stdout",
          "text": [
            "<class 'pandas.core.frame.DataFrame'>\n",
            "RangeIndex: 46632 entries, 0 to 46631\n",
            "Data columns (total 27 columns):\n",
            " #   Column                 Non-Null Count  Dtype  \n",
            "---  ------                 --------------  -----  \n",
            " 0   adult                  46632 non-null  object \n",
            " 1   belongs_to_collection  4577 non-null   object \n",
            " 2   budget                 46632 non-null  object \n",
            " 3   genres                 46632 non-null  object \n",
            " 4   homepage               8012 non-null   object \n",
            " 5   id                     46632 non-null  object \n",
            " 6   imdb_id                46615 non-null  object \n",
            " 7   original_language      46621 non-null  object \n",
            " 8   original_title         46632 non-null  object \n",
            " 9   overview               45637 non-null  object \n",
            " 10  popularity             46626 non-null  object \n",
            " 11  poster_path            46233 non-null  object \n",
            " 12  production_companies   46628 non-null  object \n",
            " 13  production_countries   46628 non-null  object \n",
            " 14  release_date           46544 non-null  object \n",
            " 15  revenue                46625 non-null  float64\n",
            " 16  runtime                46361 non-null  float64\n",
            " 17  spoken_languages       46625 non-null  object \n",
            " 18  status                 46543 non-null  object \n",
            " 19  tagline                20783 non-null  object \n",
            " 20  title                  46625 non-null  object \n",
            " 21  video                  46625 non-null  object \n",
            " 22  vote_average           46625 non-null  float64\n",
            " 23  vote_count             46625 non-null  float64\n",
            " 24  cast                   46628 non-null  object \n",
            " 25  crew                   46628 non-null  object \n",
            " 26  keywords               46628 non-null  object \n",
            "dtypes: float64(4), object(23)\n",
            "memory usage: 9.6+ MB\n"
          ]
        }
      ]
    },
    {
      "cell_type": "markdown",
      "source": [
        "## Data Type Conversion + Dataset Filtering\n"
      ],
      "metadata": {
        "id": "MoTUlYH6yDs-"
      }
    },
    {
      "cell_type": "markdown",
      "source": [
        "Here's the plan for fixing data types for each column:\n",
        "\n",
        "\n",
        "*   If it's supposed to be a non-string feature (list, dictionary, float, etc.), we run our safe_literal_eval function on that column and look at the problematic rows. We can decide what to do about these failed rows case by case.\n",
        "*   While going through the list of columns, we will drop columns that won't be useful for this project.\n",
        "\n",
        "After this, we can look at how to deal with null values."
      ],
      "metadata": {
        "id": "E6etyBtlKj2y"
      }
    },
    {
      "cell_type": "code",
      "source": [
        "def safe_literal_eval(df, columns):\n",
        "  \"\"\"\n",
        "  Attempts to apply ast.literal_eval to given columns in each row of the DataFrame.\n",
        "  Skips and logs rows where parsing fails.\n",
        "\n",
        "  Parameters:\n",
        "  df (pd.DataFrame): The DataFrame to process.\n",
        "  columns (list): List of column names to apply literal_eval to.\n",
        "\n",
        "  Returns:\n",
        "  tuple: (updated_df, failed_rows)\n",
        "  \"\"\"\n",
        "  failed_rows = []\n",
        "\n",
        "  for idx, row in df.iterrows():\n",
        "    for col in columns:\n",
        "      val = row[col]\n",
        "      if isinstance(val, str):\n",
        "        try:\n",
        "          df.at[idx, col] = literal_eval(val)\n",
        "        except (ValueError, SyntaxError):\n",
        "          failed_rows.append((idx, col, val))\n",
        "      # If it's already list/dict/etc, skip conversion\n",
        "  return df, failed_rows"
      ],
      "metadata": {
        "id": "7aMJxjalt74E"
      },
      "execution_count": null,
      "outputs": []
    },
    {
      "cell_type": "code",
      "source": [
        "# checking failed conversion for 'adult' column\n",
        "_, failed_rows = safe_literal_eval(df2,['adult'])\n",
        "failed_rows"
      ],
      "metadata": {
        "colab": {
          "base_uri": "https://localhost:8080/"
        },
        "id": "OyaYODU7uRUu",
        "outputId": "91850293-963f-473a-d69e-d6781d3277ac"
      },
      "execution_count": null,
      "outputs": [
        {
          "output_type": "execute_result",
          "data": {
            "text/plain": [
              "[(19846, 'adult', ' - Written by Ørnås'),\n",
              " (29678,\n",
              "  'adult',\n",
              "  ' Rune Balot goes to a casino connected to the October corporation to try to wrap up her case once and for all.'),\n",
              " (35974,\n",
              "  'adult',\n",
              "  ' Avalanche Sharks tells the story of a bikini contest that turns into a horrifying affair when it is hit by a shark avalanche.')]"
            ]
          },
          "metadata": {},
          "execution_count": 118
        }
      ]
    },
    {
      "cell_type": "markdown",
      "source": [
        "These values don't belong in the 'adult' column. We'll drop these rows."
      ],
      "metadata": {
        "id": "LbBVF4rZLOIP"
      }
    },
    {
      "cell_type": "code",
      "source": [
        "# dropping problematic rows where conversion failed:\n",
        "df2.drop([x[0] for x in failed_rows], inplace=True)"
      ],
      "metadata": {
        "id": "MiJDq6AuLeiv"
      },
      "execution_count": null,
      "outputs": []
    },
    {
      "cell_type": "markdown",
      "source": [
        "For the curious readers, this column states whether or not the movie is an *Adult Movie*, if you know what I mean. Let's filter our dataframe to remove all adult movies, then remove the 'adult' column."
      ],
      "metadata": {
        "id": "L4ku68W5ZG3t"
      }
    },
    {
      "cell_type": "code",
      "source": [
        "df2 = df2[df2['adult'] == False]\n",
        "df2.drop('adult', axis=1, inplace=True)"
      ],
      "metadata": {
        "id": "MYBg0a8mZGIO"
      },
      "execution_count": null,
      "outputs": []
    },
    {
      "cell_type": "code",
      "source": [
        "# checking failed conversion for 'belongs_to_collection' column\n",
        "_, failed_rows = safe_literal_eval(df2,['belongs_to_collection'])\n",
        "failed_rows"
      ],
      "metadata": {
        "colab": {
          "base_uri": "https://localhost:8080/"
        },
        "id": "qlfZOJtkLw4b",
        "outputId": "7b460f2f-2376-4707-9f6c-cc97eba9624c"
      },
      "execution_count": null,
      "outputs": [
        {
          "output_type": "execute_result",
          "data": {
            "text/plain": [
              "[]"
            ]
          },
          "metadata": {},
          "execution_count": 120
        }
      ]
    },
    {
      "cell_type": "code",
      "source": [
        "# checking failed conversion for 'budget' column\n",
        "_, failed_rows = safe_literal_eval(df2,['budget'])\n",
        "df2['budget'] = df2['budget'].astype(float)\n",
        "failed_rows"
      ],
      "metadata": {
        "colab": {
          "base_uri": "https://localhost:8080/"
        },
        "id": "mKHyr1gkL55Q",
        "outputId": "815312e6-5a19-4d72-92be-fb7acb023b17"
      },
      "execution_count": null,
      "outputs": [
        {
          "output_type": "execute_result",
          "data": {
            "text/plain": [
              "[]"
            ]
          },
          "metadata": {},
          "execution_count": 113
        }
      ]
    },
    {
      "cell_type": "code",
      "source": [
        "# checking failed conversion for 'genres' column\n",
        "_, failed_rows = safe_literal_eval(df2,['genres'])\n",
        "failed_rows"
      ],
      "metadata": {
        "colab": {
          "base_uri": "https://localhost:8080/"
        },
        "id": "i5DXoSrdNcWg",
        "outputId": "5e4d5a76-0aa1-467d-f300-9003f0eecac2"
      },
      "execution_count": null,
      "outputs": [
        {
          "output_type": "execute_result",
          "data": {
            "text/plain": [
              "[]"
            ]
          },
          "metadata": {},
          "execution_count": 122
        }
      ]
    },
    {
      "cell_type": "code",
      "source": [
        "# dropping 'homepage' column, we won't be using it for this project\n",
        "df2.drop('homepage', axis=1, inplace=True)"
      ],
      "metadata": {
        "id": "lgrVLGY6Nxr2"
      },
      "execution_count": null,
      "outputs": []
    },
    {
      "cell_type": "code",
      "source": [
        "# checking failed conversion for 'popularity' column\n",
        "_, failed_rows = safe_literal_eval(df2,['popularity'])\n",
        "df2['popularity'] = df2['popularity'].astype(float)\n",
        "failed_rows"
      ],
      "metadata": {
        "colab": {
          "base_uri": "https://localhost:8080/"
        },
        "id": "udpfsgfYP1yO",
        "outputId": "02f91ffd-77f7-4961-8ecf-8bfbdf956359"
      },
      "execution_count": null,
      "outputs": [
        {
          "output_type": "execute_result",
          "data": {
            "text/plain": [
              "[]"
            ]
          },
          "metadata": {},
          "execution_count": 120
        }
      ]
    },
    {
      "cell_type": "code",
      "source": [
        "df2['popularity'].describe()"
      ],
      "metadata": {
        "colab": {
          "base_uri": "https://localhost:8080/",
          "height": 335
        },
        "id": "F-YwOwbDdSjc",
        "outputId": "1e0fe132-1bd9-4582-edfa-d2471f188d1d"
      },
      "execution_count": null,
      "outputs": [
        {
          "output_type": "execute_result",
          "data": {
            "text/plain": [
              "count    46136.000000\n",
              "mean         2.913243\n",
              "std          5.969999\n",
              "min          0.000000\n",
              "25%          0.387829\n",
              "50%          1.127478\n",
              "75%          3.663214\n",
              "max        547.488298\n",
              "Name: popularity, dtype: float64"
            ],
            "text/html": [
              "<div>\n",
              "<style scoped>\n",
              "    .dataframe tbody tr th:only-of-type {\n",
              "        vertical-align: middle;\n",
              "    }\n",
              "\n",
              "    .dataframe tbody tr th {\n",
              "        vertical-align: top;\n",
              "    }\n",
              "\n",
              "    .dataframe thead th {\n",
              "        text-align: right;\n",
              "    }\n",
              "</style>\n",
              "<table border=\"1\" class=\"dataframe\">\n",
              "  <thead>\n",
              "    <tr style=\"text-align: right;\">\n",
              "      <th></th>\n",
              "      <th>popularity</th>\n",
              "    </tr>\n",
              "  </thead>\n",
              "  <tbody>\n",
              "    <tr>\n",
              "      <th>count</th>\n",
              "      <td>46136.000000</td>\n",
              "    </tr>\n",
              "    <tr>\n",
              "      <th>mean</th>\n",
              "      <td>2.913243</td>\n",
              "    </tr>\n",
              "    <tr>\n",
              "      <th>std</th>\n",
              "      <td>5.969999</td>\n",
              "    </tr>\n",
              "    <tr>\n",
              "      <th>min</th>\n",
              "      <td>0.000000</td>\n",
              "    </tr>\n",
              "    <tr>\n",
              "      <th>25%</th>\n",
              "      <td>0.387829</td>\n",
              "    </tr>\n",
              "    <tr>\n",
              "      <th>50%</th>\n",
              "      <td>1.127478</td>\n",
              "    </tr>\n",
              "    <tr>\n",
              "      <th>75%</th>\n",
              "      <td>3.663214</td>\n",
              "    </tr>\n",
              "    <tr>\n",
              "      <th>max</th>\n",
              "      <td>547.488298</td>\n",
              "    </tr>\n",
              "  </tbody>\n",
              "</table>\n",
              "</div><br><label><b>dtype:</b> float64</label>"
            ]
          },
          "metadata": {},
          "execution_count": 21
        }
      ]
    },
    {
      "cell_type": "code",
      "source": [
        "len(df2[df2['popularity']<1])"
      ],
      "metadata": {
        "colab": {
          "base_uri": "https://localhost:8080/"
        },
        "id": "yw8h-A1gdVhX",
        "outputId": "a3577aa6-be17-4f82-e8a3-5b7414077d77"
      },
      "execution_count": null,
      "outputs": [
        {
          "output_type": "execute_result",
          "data": {
            "text/plain": [
              "21561"
            ]
          },
          "metadata": {},
          "execution_count": 24
        }
      ]
    },
    {
      "cell_type": "markdown",
      "source": [
        "I don't think this 'popularity' column will be useful to us. Let's drop it."
      ],
      "metadata": {
        "id": "6kxCeuBtdljz"
      }
    },
    {
      "cell_type": "code",
      "source": [
        "# dropping 'popularity' column\n",
        "df2.drop('popularity', axis=1, inplace=True)"
      ],
      "metadata": {
        "id": "-TfayyVqdsm6"
      },
      "execution_count": null,
      "outputs": []
    },
    {
      "cell_type": "code",
      "source": [
        "# dropping 'poster_path' column\n",
        "df2.drop('poster_path', axis=1, inplace=True)"
      ],
      "metadata": {
        "id": "kuJgEP0UQATs"
      },
      "execution_count": null,
      "outputs": []
    },
    {
      "cell_type": "code",
      "source": [
        "# checking failed conversion for 'production_companies' column\n",
        "_, failed_rows = safe_literal_eval(df2,['production_companies'])\n",
        "failed_rows"
      ],
      "metadata": {
        "colab": {
          "base_uri": "https://localhost:8080/"
        },
        "id": "7bTZVVaJQS2I",
        "outputId": "87b1a24a-fcf8-4c98-b38f-860f537e99e2"
      },
      "execution_count": null,
      "outputs": [
        {
          "output_type": "execute_result",
          "data": {
            "text/plain": [
              "[]"
            ]
          },
          "metadata": {},
          "execution_count": 127
        }
      ]
    },
    {
      "cell_type": "code",
      "source": [
        "# extracting production company names from 'production_companies' column\n",
        "df2['production_companies'] = df2['production_companies'].apply(\n",
        "    lambda x: [d['name'] for d in (literal_eval(x) if isinstance(x, str) else x) if isinstance(d, dict)]\n",
        ")"
      ],
      "metadata": {
        "id": "Owhx648dafoT"
      },
      "execution_count": null,
      "outputs": []
    },
    {
      "cell_type": "code",
      "source": [
        "# checking failed conversion for 'production_countries' column\n",
        "_, failed_rows = safe_literal_eval(df2,['production_countries'])\n",
        "failed_rows"
      ],
      "metadata": {
        "colab": {
          "base_uri": "https://localhost:8080/"
        },
        "id": "m9bvdDeEQbMg",
        "outputId": "084b79d1-ab9a-44f3-f931-7d6aa8e88e5a"
      },
      "execution_count": null,
      "outputs": [
        {
          "output_type": "execute_result",
          "data": {
            "text/plain": [
              "[]"
            ]
          },
          "metadata": {},
          "execution_count": 128
        }
      ]
    },
    {
      "cell_type": "code",
      "source": [
        "# extracting countries from 'production_countries' column\n",
        "df2['production_countries'] = df2['production_countries'].apply(\n",
        "    lambda x: [d['name'] for d in (literal_eval(x) if isinstance(x, str) else x) if isinstance(d, dict)]\n",
        ")"
      ],
      "metadata": {
        "id": "UqP6-Jpfeki2"
      },
      "execution_count": null,
      "outputs": []
    },
    {
      "cell_type": "code",
      "source": [
        "# checking failed conversion for 'revenue' column\n",
        "_, failed_rows = safe_literal_eval(df2,['revenue'])\n",
        "failed_rows"
      ],
      "metadata": {
        "colab": {
          "base_uri": "https://localhost:8080/"
        },
        "id": "y-WmsgjBQnqq",
        "outputId": "e8aeaca7-520a-48d2-cde6-1a9e061b9e8d"
      },
      "execution_count": null,
      "outputs": [
        {
          "output_type": "execute_result",
          "data": {
            "text/plain": [
              "[]"
            ]
          },
          "metadata": {},
          "execution_count": 130
        }
      ]
    },
    {
      "cell_type": "code",
      "source": [
        "# checking failed conversion for 'runtime' column\n",
        "_, failed_rows = safe_literal_eval(df2,['runtime'])\n",
        "failed_rows"
      ],
      "metadata": {
        "colab": {
          "base_uri": "https://localhost:8080/"
        },
        "id": "tDx4wAejQuHa",
        "outputId": "985c8637-ace6-4f66-d3c0-50dad1a2f504"
      },
      "execution_count": null,
      "outputs": [
        {
          "output_type": "execute_result",
          "data": {
            "text/plain": [
              "[]"
            ]
          },
          "metadata": {},
          "execution_count": 132
        }
      ]
    },
    {
      "cell_type": "code",
      "source": [
        "# checking failed conversion for 'spoken_languages' column\n",
        "_, failed_rows = safe_literal_eval(df2,['spoken_languages'])\n",
        "failed_rows"
      ],
      "metadata": {
        "colab": {
          "base_uri": "https://localhost:8080/"
        },
        "id": "jKS-cdMQQzc0",
        "outputId": "361e84be-f155-408e-d74e-4383ce191ada"
      },
      "execution_count": null,
      "outputs": [
        {
          "output_type": "execute_result",
          "data": {
            "text/plain": [
              "[]"
            ]
          },
          "metadata": {},
          "execution_count": 135
        }
      ]
    },
    {
      "cell_type": "code",
      "source": [
        "# Filtering our dataframe to only include released movies, then dropping 'status' column\n",
        "df2 = df2[df2['status']=='Released']\n",
        "df2.drop('status', axis=1, inplace=True)"
      ],
      "metadata": {
        "id": "M8eYz2yrQ-G3"
      },
      "execution_count": null,
      "outputs": []
    },
    {
      "cell_type": "code",
      "source": [
        "# Dropping 'original_title' column. The existing 'title' column is good enough for us.\n",
        "df2.drop('original_title', axis=1, inplace=True)"
      ],
      "metadata": {
        "id": "Vh3DAfIURbo-"
      },
      "execution_count": null,
      "outputs": []
    },
    {
      "cell_type": "code",
      "source": [
        "# Dropping 'video' column. This column contains boolean values stating whether or not the movie was made from stitched together cut scenes.\n",
        "df2.drop('video', axis=1, inplace=True)"
      ],
      "metadata": {
        "id": "wUp7tYS-RxKB"
      },
      "execution_count": null,
      "outputs": []
    },
    {
      "cell_type": "code",
      "source": [
        "# checking failed conversion for 'cast' column\n",
        "_, failed_rows = safe_literal_eval(df2,['cast'])\n",
        "failed_rows"
      ],
      "metadata": {
        "colab": {
          "base_uri": "https://localhost:8080/"
        },
        "id": "GgQCqi9jTaoQ",
        "outputId": "f6c27f60-7017-4f73-e295-9b86ca04e17c"
      },
      "execution_count": null,
      "outputs": [
        {
          "output_type": "execute_result",
          "data": {
            "text/plain": [
              "[]"
            ]
          },
          "metadata": {},
          "execution_count": 155
        }
      ]
    },
    {
      "cell_type": "code",
      "source": [
        "# Extracting names from 'cast' column\n",
        "\n",
        "df2['cast'] = df2['cast'].apply(\n",
        "    lambda x: [d['name'] for d in (literal_eval(x) if isinstance(x, str) else x) if isinstance(d, dict)]\n",
        ")"
      ],
      "metadata": {
        "id": "bJvNNDv9hYJM"
      },
      "execution_count": null,
      "outputs": []
    },
    {
      "cell_type": "code",
      "source": [
        "# checking failed conversion for 'crew' column\n",
        "_, failed_rows = safe_literal_eval(df2,['crew'])\n",
        "failed_rows"
      ],
      "metadata": {
        "colab": {
          "base_uri": "https://localhost:8080/"
        },
        "id": "P8TsQN5WThpC",
        "outputId": "1f7c59bd-4b72-4a0a-881d-d57d9014aa36"
      },
      "execution_count": null,
      "outputs": [
        {
          "output_type": "execute_result",
          "data": {
            "text/plain": [
              "[]"
            ]
          },
          "metadata": {},
          "execution_count": 156
        }
      ]
    },
    {
      "cell_type": "code",
      "source": [
        "# checking failed conversion for 'keywords' column\n",
        "_, failed_rows = safe_literal_eval(df2,['keywords'])\n",
        "failed_rows"
      ],
      "metadata": {
        "colab": {
          "base_uri": "https://localhost:8080/"
        },
        "id": "FiMa5e91T4Qk",
        "outputId": "b18eb5ea-8b5b-42c0-b8b0-e2646c415b4e"
      },
      "execution_count": null,
      "outputs": [
        {
          "output_type": "execute_result",
          "data": {
            "text/plain": [
              "[]"
            ]
          },
          "metadata": {},
          "execution_count": 158
        }
      ]
    },
    {
      "cell_type": "code",
      "source": [
        "# Extracting keywords from 'keywords' column\n",
        "df2['keywords'] = df2['keywords'].apply(\n",
        "    lambda x: [d['name'] for d in (literal_eval(x) if isinstance(x, str) else x) if isinstance(d, dict)]\n",
        ")"
      ],
      "metadata": {
        "id": "Py8zcVGeZvB0"
      },
      "execution_count": null,
      "outputs": []
    },
    {
      "cell_type": "markdown",
      "source": [
        "Cool! At this point, each column should be of the correct data type.\n",
        "\n",
        "Now it's time to check for null and incorrect values."
      ],
      "metadata": {
        "id": "jWMJFhFNTG00"
      }
    },
    {
      "cell_type": "markdown",
      "source": [
        "## Dealing with Missing Values and Duplicate Rows\n",
        "\n",
        "When dealing with missing data, there are several possible options:\n",
        "\n",
        "\n",
        "*   **Deletion**: remove the rows with missing data\n",
        "*   **Imputation**: This could mean different things. If a column contains string type data, we might replace NaN with an empty string. We could do the equivalent replacement operation for list columns. For columns containing dictionaries, we might extract the relevant key, value, or key/value pair and replace the dictionary with a string containing the innner inforation. *Alternatively*, we can do some web scraping and replace NaN values with the sraped results. For numerical data, we might web scrape or replace NaN values with some statistic (mean,mode, etc.) calculated from existing column data.\n",
        "\n",
        "We should also make sure data in each column looks the way it should. For example, each 'imdb_id' should be of the form 'ttxxxxxxx' where each 'x' is a digit.\n",
        "\n",
        "Let's get into it:"
      ],
      "metadata": {
        "id": "oLUR2NdSVKxT"
      }
    },
    {
      "cell_type": "code",
      "source": [
        "# web scraping tools\n",
        "import requests\n",
        "from bs4 import BeautifulSoup\n",
        "import time\n",
        "import random\n",
        "import re"
      ],
      "metadata": {
        "id": "7U86VnULBive"
      },
      "execution_count": null,
      "outputs": []
    },
    {
      "cell_type": "code",
      "source": [
        "# Gets the imdb html for a movie using imdb_id\n",
        "def get_soup(imdb_id):\n",
        "  url = f\"https://www.imdb.com/title/{imdb_id}\"\n",
        "  headers = {\n",
        "    \"User-Agent\": \"Mozilla/5.0\"  # Avoid blocks\n",
        "  }\n",
        "  time.sleep(random.randint(0, 3)) # Avoid blocks\n",
        "  try:\n",
        "    response = requests.get(url, headers=headers)\n",
        "    response.raise_for_status()\n",
        "  except requests.RequestException as e:\n",
        "    print(f\"Request failed: {e}\")\n",
        "    return None\n",
        "\n",
        "  soup = BeautifulSoup(response.text, 'html.parser')\n",
        "  return soup"
      ],
      "metadata": {
        "id": "DPvwboLRkqmg"
      },
      "execution_count": null,
      "outputs": []
    },
    {
      "cell_type": "code",
      "source": [
        "def extract_from_html(soup, tag, attrs=None, multiple=False, get_text=True):\n",
        "  \"\"\"\n",
        "  Extract data from HTML based on tag and attributes.\n",
        "\n",
        "  Parameters:\n",
        "  - soup: BeautifulSoup object\n",
        "  - tag: HTML tag (string), e.g., 'div', 'span', 'a'\n",
        "  - attrs: dict of HTML attributes, e.g., {'class': 'title_wrapper'}\n",
        "  - multiple: bool, whether to return all matches or just the first\n",
        "  - get_text: bool, whether to return .text or raw element(s)\n",
        "\n",
        "  Returns:\n",
        "  - Single value or list, depending on 'multiple'\n",
        "  \"\"\"\n",
        "  # if not language_section:                            # These 3 lines are from an old scraping function.\n",
        "  #   print(\"Language section not found.\")              # I think we delete these lines.\n",
        "  #   return None\n",
        "  if multiple:\n",
        "    elements = soup.find_all(tag, attrs=attrs)\n",
        "    return [el.get_text(strip=True) if get_text else el for el in elements]\n",
        "  else:\n",
        "    element = soup.find(tag, attrs=attrs)\n",
        "    if element:\n",
        "      return element.get_text(strip=True) if get_text else element\n",
        "    return None"
      ],
      "metadata": {
        "id": "maxBhxc3nbP6"
      },
      "execution_count": null,
      "outputs": []
    },
    {
      "cell_type": "code",
      "source": [
        "# Extracting the collection name when it exists, replacing NaN with 'no'\n",
        "df2['belongs_to_collection'] = df2['belongs_to_collection'].apply(lambda x: x['name'] if pd.notnull(x) else '')"
      ],
      "metadata": {
        "id": "u6ryNBWQYXf1"
      },
      "execution_count": null,
      "outputs": []
    },
    {
      "cell_type": "code",
      "source": [
        "df2['belongs_to_collection']"
      ],
      "metadata": {
        "colab": {
          "base_uri": "https://localhost:8080/",
          "height": 458
        },
        "id": "7ZzCyY5zbc8v",
        "outputId": "0fb8ee23-8663-4f8d-d9d1-1516f1a534bc"
      },
      "execution_count": null,
      "outputs": [
        {
          "output_type": "execute_result",
          "data": {
            "text/plain": [
              "0                  Toy Story Collection\n",
              "1                                    no\n",
              "2             Grumpy Old Men Collection\n",
              "3                                    no\n",
              "4        Father of the Bride Collection\n",
              "                      ...              \n",
              "46627                                no\n",
              "46628                                no\n",
              "46629                                no\n",
              "46630                                no\n",
              "46631                                no\n",
              "Name: belongs_to_collection, Length: 46165, dtype: object"
            ],
            "text/html": [
              "<div>\n",
              "<style scoped>\n",
              "    .dataframe tbody tr th:only-of-type {\n",
              "        vertical-align: middle;\n",
              "    }\n",
              "\n",
              "    .dataframe tbody tr th {\n",
              "        vertical-align: top;\n",
              "    }\n",
              "\n",
              "    .dataframe thead th {\n",
              "        text-align: right;\n",
              "    }\n",
              "</style>\n",
              "<table border=\"1\" class=\"dataframe\">\n",
              "  <thead>\n",
              "    <tr style=\"text-align: right;\">\n",
              "      <th></th>\n",
              "      <th>belongs_to_collection</th>\n",
              "    </tr>\n",
              "  </thead>\n",
              "  <tbody>\n",
              "    <tr>\n",
              "      <th>0</th>\n",
              "      <td>Toy Story Collection</td>\n",
              "    </tr>\n",
              "    <tr>\n",
              "      <th>1</th>\n",
              "      <td>no</td>\n",
              "    </tr>\n",
              "    <tr>\n",
              "      <th>2</th>\n",
              "      <td>Grumpy Old Men Collection</td>\n",
              "    </tr>\n",
              "    <tr>\n",
              "      <th>3</th>\n",
              "      <td>no</td>\n",
              "    </tr>\n",
              "    <tr>\n",
              "      <th>4</th>\n",
              "      <td>Father of the Bride Collection</td>\n",
              "    </tr>\n",
              "    <tr>\n",
              "      <th>...</th>\n",
              "      <td>...</td>\n",
              "    </tr>\n",
              "    <tr>\n",
              "      <th>46627</th>\n",
              "      <td>no</td>\n",
              "    </tr>\n",
              "    <tr>\n",
              "      <th>46628</th>\n",
              "      <td>no</td>\n",
              "    </tr>\n",
              "    <tr>\n",
              "      <th>46629</th>\n",
              "      <td>no</td>\n",
              "    </tr>\n",
              "    <tr>\n",
              "      <th>46630</th>\n",
              "      <td>no</td>\n",
              "    </tr>\n",
              "    <tr>\n",
              "      <th>46631</th>\n",
              "      <td>no</td>\n",
              "    </tr>\n",
              "  </tbody>\n",
              "</table>\n",
              "<p>46165 rows × 1 columns</p>\n",
              "</div><br><label><b>dtype:</b> object</label>"
            ]
          },
          "metadata": {},
          "execution_count": 175
        }
      ]
    },
    {
      "cell_type": "code",
      "source": [
        "df2['genres'].isna().value_counts()"
      ],
      "metadata": {
        "colab": {
          "base_uri": "https://localhost:8080/",
          "height": 147
        },
        "id": "z2raPsMsgGAC",
        "outputId": "cc8862f7-f3a8-47b0-d28b-acb68fe2dc0a"
      },
      "execution_count": null,
      "outputs": [
        {
          "output_type": "execute_result",
          "data": {
            "text/plain": [
              "genres\n",
              "False    46165\n",
              "Name: count, dtype: int64"
            ],
            "text/html": [
              "<div>\n",
              "<style scoped>\n",
              "    .dataframe tbody tr th:only-of-type {\n",
              "        vertical-align: middle;\n",
              "    }\n",
              "\n",
              "    .dataframe tbody tr th {\n",
              "        vertical-align: top;\n",
              "    }\n",
              "\n",
              "    .dataframe thead th {\n",
              "        text-align: right;\n",
              "    }\n",
              "</style>\n",
              "<table border=\"1\" class=\"dataframe\">\n",
              "  <thead>\n",
              "    <tr style=\"text-align: right;\">\n",
              "      <th></th>\n",
              "      <th>count</th>\n",
              "    </tr>\n",
              "    <tr>\n",
              "      <th>genres</th>\n",
              "      <th></th>\n",
              "    </tr>\n",
              "  </thead>\n",
              "  <tbody>\n",
              "    <tr>\n",
              "      <th>False</th>\n",
              "      <td>46165</td>\n",
              "    </tr>\n",
              "  </tbody>\n",
              "</table>\n",
              "</div><br><label><b>dtype:</b> int64</label>"
            ]
          },
          "metadata": {},
          "execution_count": 180
        }
      ]
    },
    {
      "cell_type": "code",
      "source": [
        "# Extracting genres from lists of dicts\n",
        "df2['genres'] = df2['genres'].apply(\n",
        "    lambda x: [d['name'] for d in (literal_eval(x) if isinstance(x, str) else x) if isinstance(d, dict)]\n",
        ")"
      ],
      "metadata": {
        "id": "EUVfxISDejpl"
      },
      "execution_count": null,
      "outputs": []
    },
    {
      "cell_type": "code",
      "source": [
        "# Dropping rows without an 'imdb_id'\n",
        "print('dropping rows:',df2[df2['imdb_id'].isna()].index.tolist())\n",
        "df2.drop(df2[df2['imdb_id'].isna()].index.tolist(), inplace=True)"
      ],
      "metadata": {
        "colab": {
          "base_uri": "https://localhost:8080/"
        },
        "id": "SaE6XeEziJcy",
        "outputId": "62afea8d-e5bf-4d14-ccb8-669173b64840"
      },
      "execution_count": null,
      "outputs": [
        {
          "output_type": "stream",
          "name": "stdout",
          "text": [
            "dropping rows: [9005, 13841, 13905, 17498, 19075, 19438, 20928, 21065, 22053, 23890, 33937, 38103, 41966, 42989, 46233]\n"
          ]
        }
      ]
    },
    {
      "cell_type": "code",
      "source": [
        "# Confirming the length of each imdb_id is 9\n",
        "len(df2[df2['imdb_id'].apply(len)==9]) == len(df2)"
      ],
      "metadata": {
        "colab": {
          "base_uri": "https://localhost:8080/"
        },
        "id": "DFszQSsm4Sl7",
        "outputId": "29e1e93c-e9d5-4cca-dfa4-c6c37ae332e3"
      },
      "execution_count": null,
      "outputs": [
        {
          "output_type": "execute_result",
          "data": {
            "text/plain": [
              "True"
            ]
          },
          "metadata": {},
          "execution_count": 284
        }
      ]
    },
    {
      "cell_type": "markdown",
      "source": [
        "Next we have the 'original_language' column, which has 10 missing values. This is actually my second time working with this dataset, and I learned a lot from my first go at it. One of the lessons I learned is to make sure to inspect the dataset carefully before resorting to replacing missing values with web scraped results. It turns out that there is a related column named 'spoken_languages', which contains the ISO 639-1 (two letter) language codes I need. We'll use these to replace our missing values."
      ],
      "metadata": {
        "id": "5QRewOQqkdQo"
      }
    },
    {
      "cell_type": "code",
      "source": [
        "lang_codes_list = df2[df2['original_language'].isna()]['spoken_languages'].to_list()      # List of lists containing language codes\n",
        "lang_codes = [x[0]['iso_639_1'] for x in lang_codes_list]                                 # Replacement values gathered from 'spoken_languages'\n",
        "lang_codes_idx = df2[df2['original_language'].isna()]['spoken_languages'].index.to_list() # Indices of missing values\n",
        "\n",
        "# replacing missing 'original_language' value:\n",
        "for idx, code in zip(lang_codes_idx, lang_codes):\n",
        "  df2.at[idx, 'original_language'] = code"
      ],
      "metadata": {
        "id": "LVkbtI0in6_L"
      },
      "execution_count": null,
      "outputs": []
    },
    {
      "cell_type": "code",
      "source": [
        "df2.loc[lang_codes_idx,'original_language']"
      ],
      "metadata": {
        "colab": {
          "base_uri": "https://localhost:8080/",
          "height": 398
        },
        "id": "FQzvJ5P1s8yY",
        "outputId": "3169efc2-4be4-4ddf-d223-bab7e24997e5"
      },
      "execution_count": null,
      "outputs": [
        {
          "output_type": "execute_result",
          "data": {
            "text/plain": [
              "19690    de\n",
              "21736    en\n",
              "22972    en\n",
              "32319    en\n",
              "38555    cs\n",
              "42204    ur\n",
              "43029    xx\n",
              "45214    fr\n",
              "45567    sv\n",
              "45733    de\n",
              "Name: original_language, dtype: object"
            ],
            "text/html": [
              "<div>\n",
              "<style scoped>\n",
              "    .dataframe tbody tr th:only-of-type {\n",
              "        vertical-align: middle;\n",
              "    }\n",
              "\n",
              "    .dataframe tbody tr th {\n",
              "        vertical-align: top;\n",
              "    }\n",
              "\n",
              "    .dataframe thead th {\n",
              "        text-align: right;\n",
              "    }\n",
              "</style>\n",
              "<table border=\"1\" class=\"dataframe\">\n",
              "  <thead>\n",
              "    <tr style=\"text-align: right;\">\n",
              "      <th></th>\n",
              "      <th>original_language</th>\n",
              "    </tr>\n",
              "  </thead>\n",
              "  <tbody>\n",
              "    <tr>\n",
              "      <th>19690</th>\n",
              "      <td>de</td>\n",
              "    </tr>\n",
              "    <tr>\n",
              "      <th>21736</th>\n",
              "      <td>en</td>\n",
              "    </tr>\n",
              "    <tr>\n",
              "      <th>22972</th>\n",
              "      <td>en</td>\n",
              "    </tr>\n",
              "    <tr>\n",
              "      <th>32319</th>\n",
              "      <td>en</td>\n",
              "    </tr>\n",
              "    <tr>\n",
              "      <th>38555</th>\n",
              "      <td>cs</td>\n",
              "    </tr>\n",
              "    <tr>\n",
              "      <th>42204</th>\n",
              "      <td>ur</td>\n",
              "    </tr>\n",
              "    <tr>\n",
              "      <th>43029</th>\n",
              "      <td>xx</td>\n",
              "    </tr>\n",
              "    <tr>\n",
              "      <th>45214</th>\n",
              "      <td>fr</td>\n",
              "    </tr>\n",
              "    <tr>\n",
              "      <th>45567</th>\n",
              "      <td>sv</td>\n",
              "    </tr>\n",
              "    <tr>\n",
              "      <th>45733</th>\n",
              "      <td>de</td>\n",
              "    </tr>\n",
              "  </tbody>\n",
              "</table>\n",
              "</div><br><label><b>dtype:</b> object</label>"
            ]
          },
          "metadata": {},
          "execution_count": 246
        }
      ]
    },
    {
      "cell_type": "code",
      "source": [
        "# Replacing missing values in 'overview' column with empty string\n",
        "df2['overview'] = df2['overview'].fillna('')"
      ],
      "metadata": {
        "id": "q7co7jDupYoq"
      },
      "execution_count": null,
      "outputs": []
    },
    {
      "cell_type": "code",
      "source": [
        "missing_rd_idx = df2[df2['release_date'].isna()].index.to_list() # Indices of missing values\n",
        "missing_rd_imdb_id = df2.loc[missing_rd_idx,'imdb_id'].to_list() # imdb_id's for corresponding missing values"
      ],
      "metadata": {
        "id": "4hPxzMVT2qGM"
      },
      "execution_count": null,
      "outputs": []
    },
    {
      "cell_type": "code",
      "source": [
        "scraped_rd = [] # List to be populated with missing release_dates\n",
        "\n",
        "# Scraping imdb for missing release_date values\n",
        "for id in missing_rd_imdb_id:\n",
        "  soup = get_soup(id) # html of imdb page\n",
        "  if extract_from_html(soup, tag='a',attrs={'class':'ipc-metadata-list-item__list-content-item ipc-metadata-list-item__list-content-item--link',\n",
        "                                            'href':f'/title/{id}/releaseinfo/?ref_=tt_dt_rdat'}):\n",
        "    rd_str = extract_from_html(soup, tag='a',attrs={'class':'ipc-metadata-list-item__list-content-item ipc-metadata-list-item__list-content-item--link',\n",
        "                                                    'href':f'/title/{id}/releaseinfo/?ref_=tt_dt_rdat'}).split(' (')[0]\n",
        "    scraped_rd.append(rd_str)\n",
        "  else:\n",
        "    print(f'date for f{id} not found')\n",
        "    scraped_rd.append(None)\n"
      ],
      "metadata": {
        "colab": {
          "base_uri": "https://localhost:8080/"
        },
        "collapsed": true,
        "id": "0ee-tb3cGUQG",
        "outputId": "75f1cf93-9440-4f99-c11f-5f6182542bea"
      },
      "execution_count": null,
      "outputs": [
        {
          "output_type": "stream",
          "name": "stdout",
          "text": [
            "May 9, 1996\n",
            "September 25, 1992\n",
            "June 21, 2000\n",
            "February 26, 2007\n",
            "September 2007\n",
            "December 12, 1992\n",
            "January 12, 2005\n",
            "October 17, 1978\n",
            "October 23, 2010\n",
            "September 16, 1993\n",
            "March 19, 2003\n",
            "April 15, 1993\n",
            "April 6, 1925\n",
            "April 9, 2008\n",
            "October 31, 1980\n",
            "date for ftt0185048 not found\n",
            "April 10, 2009\n",
            "March 20, 2007\n",
            "January 18, 2013\n",
            "March 12, 2013\n",
            "date for ftt0839851 not found\n",
            "October 30, 1987\n",
            "March 11, 2013\n",
            "October 6, 1999\n",
            "August 10, 2004\n",
            "October 12, 2008\n",
            "May 11, 2004\n",
            "2002\n",
            "May 21, 2007\n",
            "January 6, 2008\n",
            "March 13, 2015\n",
            "December 14, 1978\n",
            "February 3, 2012\n",
            "July 23, 2013\n",
            "November 9, 2014\n",
            "June 14, 2014\n",
            "October 7, 2003\n",
            "November 2007\n",
            "December 6, 2001\n",
            "June 16, 1999\n",
            "June 11, 1997\n",
            "December 26, 2015\n",
            "April 30, 2011\n",
            "May 16, 2013\n",
            "February 10, 2003\n",
            "date for ftt0222730 not found\n",
            "November 6, 2015\n",
            "2012\n",
            "June 6, 2016\n",
            "July 5, 2016\n",
            "July 3, 2016\n",
            "March 5, 2023\n",
            "July 1, 2016\n",
            "January 18, 2013\n",
            "date for ftt0250944 not found\n",
            "date for ftt2282697 not found\n",
            "March 26, 2015\n",
            "January 7, 2010\n",
            "September 18, 2012\n",
            "February 11, 2017\n",
            "October 27, 1978\n",
            "November 19, 2015\n",
            "September 28, 1980\n",
            "January 1, 2016\n",
            "September 30, 2012\n",
            "November 30, 2000\n",
            "2004\n",
            "March 23, 2018\n",
            "July 1, 2004\n",
            "March 20, 2016\n",
            "1993\n",
            "June 19, 2016\n",
            "February 23, 1980\n",
            "February 8, 2002\n",
            "June 17, 2017\n"
          ]
        }
      ]
    },
    {
      "cell_type": "code",
      "source": [
        "# Replacing missing release_date values with scraped values\n",
        "for idx, rd in zip(missing_rd_idx, scraped_rd):\n",
        "  df2.at[idx, 'release_date'] = rd"
      ],
      "metadata": {
        "colab": {
          "base_uri": "https://localhost:8080/"
        },
        "id": "lnd7RjewKV2u",
        "outputId": "4d669f92-966b-467d-870a-df3bdbfe7991"
      },
      "execution_count": null,
      "outputs": [
        {
          "output_type": "execute_result",
          "data": {
            "text/plain": [
              "75"
            ]
          },
          "metadata": {},
          "execution_count": 346
        }
      ]
    },
    {
      "cell_type": "code",
      "source": [
        "# Creating a new column release_year\n",
        "df2['release_year'] = df2['release_date'].astype('datetime64[ns]').apply(lambda date: date.year)\n",
        "\n",
        "scraped_year = [int(x[-4:]) if isinstance(x,str) else None for x in scraped_rd] # List of release_year values for missing entries\n",
        "\n",
        "# Replacing missing 'release_year' values:\n",
        "for idx, year in zip(missing_rd_idx, scraped_year):\n",
        "  df2.at[idx, 'release_year'] = year"
      ],
      "metadata": {
        "id": "Eb1L--cmaw_Q"
      },
      "execution_count": null,
      "outputs": []
    },
    {
      "cell_type": "code",
      "source": [
        "# Dropping rows without 'release_year'\n",
        "print('dropping rows:',df2[df2['release_year'].isna()].index.tolist())\n",
        "df2.drop(df2[df2['release_year'].isna()].index.tolist(), inplace=True)"
      ],
      "metadata": {
        "colab": {
          "base_uri": "https://localhost:8080/"
        },
        "id": "NKBuIV0bchlg",
        "outputId": "646d668a-9800-42c6-9c0a-d3b5aef7e439"
      },
      "execution_count": null,
      "outputs": [
        {
          "output_type": "stream",
          "name": "stdout",
          "text": [
            "dropping rows: [20423, 22156, 40014, 42226, 42271]\n"
          ]
        }
      ]
    },
    {
      "cell_type": "code",
      "source": [
        "# Dropping the 'release_date' column, since we now have 'release_year' column\n",
        "df2 = df2.drop('release_date', axis=1)"
      ],
      "metadata": {
        "id": "OR2NLCGVxrmn"
      },
      "execution_count": null,
      "outputs": []
    },
    {
      "cell_type": "code",
      "source": [
        "# Confirming no missing release_year values\n",
        "df2['release_year'].isna().sum()"
      ],
      "metadata": {
        "colab": {
          "base_uri": "https://localhost:8080/"
        },
        "id": "RsFCZopob4sA",
        "outputId": "39f4fe7b-af05-4ee4-a1f3-f869fb2c2029"
      },
      "execution_count": null,
      "outputs": [
        {
          "output_type": "execute_result",
          "data": {
            "text/plain": [
              "np.int64(0)"
            ]
          },
          "metadata": {},
          "execution_count": 75
        }
      ]
    },
    {
      "cell_type": "code",
      "source": [
        "scraped_runtimes = []                                                           # List to be populated with missing release_dates\n",
        "missing_runtime_imdb_ids = df2[df2['runtime'].isna()]['imdb_id'].tolist()       # List containing imdb_ids for missing runtime rows\n",
        "missing_runtime_idx = df2[df2['runtime'].isna()].index.tolist()                 # List containing indices for missing runtime rows\n",
        "\n",
        "\n",
        "# Scraping imdb for missing release_date values\n",
        "for id in missing_runtime_imdb_ids:\n",
        "  soup = get_soup(id) # html of imdb page\n",
        "  runtime_attrs = {'class':'ipc-inline-list__item',\n",
        "                   'role':'presentation'}\n",
        "  if extract_from_html(soup, tag='li',attrs=runtime_attrs):\n",
        "    runtime_candidates = extract_from_html(soup, tag='li',attrs=runtime_attrs,multiple=True)\n",
        "    for candidate in runtime_candidates:\n",
        "      # Prefer strings that contain both 'h' and 'm'\n",
        "      match = re.match(r'^(\\d+)\\s*h\\s*(\\d+)\\s*m$', candidate)\n",
        "      if match:\n",
        "        hours = float(match.group(1))\n",
        "        minutes = float(match.group(2))\n",
        "        runtime = hours * 60 + minutes\n",
        "        print(f'runtime for imdb_id {id} found: {runtime}')\n",
        "        scraped_runtimes.append(runtime)\n",
        "\n",
        "      # Fallback: match just minutes like \"95m\"\n",
        "      match = re.match(r'^(\\d+)\\s*m$', candidate)\n",
        "      if match:\n",
        "        runtime = float(match.group(1))\n",
        "        print(f'runtime for imdb_id {id} found: {runtime}')\n",
        "        scraped_runtimes.append(runtime)\n",
        "  else:\n",
        "    print(f'runtime for f{id} not found')\n",
        "    scraped_runtimes.append(None)"
      ],
      "metadata": {
        "colab": {
          "base_uri": "https://localhost:8080/"
        },
        "collapsed": true,
        "id": "2pq68czmMPWn",
        "outputId": "5ad0e63a-fd62-4011-d2ef-79a8cde34a4e"
      },
      "execution_count": null,
      "outputs": [
        {
          "output_type": "stream",
          "name": "stdout",
          "text": [
            "runtime for imdb_id tt0117312 found: 95.0\n",
            "runtime for imdb_id tt0116485 found: 86.0\n",
            "runtime for imdb_id tt0118026 found: 102.0\n",
            "runtime for imdb_id tt0112865 found: 93.0\n",
            "runtime for imdb_id tt0094822 found: 90.0\n",
            "runtime for imdb_id tt0387701 found: 93.0\n",
            "runtime for imdb_id tt0047338 found: 90.0\n",
            "runtime for imdb_id tt0064203 found: 92.0\n",
            "runtime for imdb_id tt1404661 found: 110.0\n",
            "runtime for imdb_id tt0087587 found: 90.0\n",
            "runtime for imdb_id tt0109744 found: 88.0\n",
            "runtime for imdb_id tt0484064 found: 93.0\n",
            "runtime for imdb_id tt0154750 found: 117.0\n",
            "runtime for imdb_id tt0343624 found: 94.0\n",
            "runtime for imdb_id tt0103228 found: 87.0\n",
            "runtime for imdb_id tt0366808 found: 88.0\n",
            "runtime for imdb_id tt0189102 found: 90.0\n",
            "runtime for imdb_id tt0105087 found: 105.0\n",
            "runtime for imdb_id tt0107903 found: 58.0\n",
            "runtime for imdb_id tt0107903 found: 58.0\n",
            "runtime for imdb_id tt0236398 found: 20.0\n",
            "runtime for imdb_id tt0236398 found: 20.0\n",
            "runtime for imdb_id tt0339482 found: 90.0\n",
            "runtime for imdb_id tt0095764 found: 165.0\n",
            "runtime for imdb_id tt1542928 found: 68.0\n",
            "runtime for imdb_id tt0465160 found: 105.0\n",
            "runtime for imdb_id tt2406990 found: 89.0\n",
            "runtime for imdb_id tt0140826 found: 122.0\n",
            "runtime for imdb_id tt0242424 found: 16.0\n",
            "runtime for imdb_id tt0242424 found: 16.0\n",
            "runtime for imdb_id tt1459858 found: 43.0\n",
            "runtime for imdb_id tt1459858 found: 43.0\n",
            "runtime for imdb_id tt0121641 found: 99.0\n",
            "runtime for imdb_id tt2146688 found: 48.0\n",
            "runtime for imdb_id tt2146688 found: 48.0\n",
            "runtime for imdb_id tt2651774 found: 77.0\n",
            "runtime for imdb_id tt1576421 found: 75.0\n",
            "runtime for imdb_id tt0104101 found: 87.0\n",
            "runtime for imdb_id tt2669832 found: 93.0\n",
            "runtime for imdb_id tt0120307 found: 115.0\n",
            "runtime for imdb_id tt0204714 found: 79.0\n",
            "runtime for imdb_id tt2524822 found: 89.0\n",
            "runtime for imdb_id tt1327702 found: 90.0\n",
            "runtime for imdb_id tt3727486 found: 89.0\n",
            "runtime for imdb_id tt0400297 found: 90.0\n",
            "runtime for imdb_id tt1145449 found: 86.0\n",
            "runtime for imdb_id tt0223490 found: 95.0\n",
            "runtime for imdb_id tt2499818 found: 100.0\n",
            "runtime for imdb_id tt0122998 found: 96.0\n",
            "runtime for imdb_id tt0076026 found: 90.0\n",
            "runtime for imdb_id tt0077130 found: 92.0\n",
            "runtime for imdb_id tt0080606 found: 92.0\n",
            "runtime for imdb_id tt3506224 found: 79.0\n",
            "runtime for imdb_id tt0170223 found: 101.0\n",
            "runtime for imdb_id tt0086266 found: 90.0\n",
            "runtime for imdb_id tt0104798 found: 112.0\n",
            "runtime for imdb_id tt3132094 found: 91.0\n",
            "runtime for imdb_id tt0057723 found: 110.0\n",
            "runtime for imdb_id tt2229221 found: 93.0\n",
            "runtime for imdb_id tt0049450 found: 94.0\n",
            "runtime for imdb_id tt1379057 found: 71.0\n",
            "runtime for imdb_id tt0972385 found: 94.0\n",
            "runtime for imdb_id tt0098154 found: 94.0\n",
            "runtime for imdb_id tt0059103 found: 95.0\n",
            "runtime for imdb_id tt0207479 found: 98.0\n",
            "runtime for imdb_id tt3432260 found: 86.0\n",
            "runtime for imdb_id tt0136225 found: 98.0\n",
            "runtime for imdb_id tt0092196 found: 89.0\n",
            "runtime for imdb_id tt0127458 found: 75.0\n",
            "runtime for imdb_id tt1272010 found: 90.0\n",
            "runtime for imdb_id tt3837070 found: 89.0\n",
            "runtime for imdb_id tt1854538 found: 92.0\n",
            "runtime for imdb_id tt3142260 found: 96.0\n",
            "runtime for imdb_id tt0344943 found: 101.0\n",
            "runtime for imdb_id tt3135128 found: 90.0\n",
            "runtime for imdb_id tt4114478 found: 90.0\n",
            "runtime for imdb_id tt0884138 found: 88.0\n",
            "runtime for imdb_id tt0079211 found: 118.0\n",
            "runtime for imdb_id tt0134668 found: 111.0\n",
            "runtime for imdb_id tt0052921 found: 95.0\n",
            "runtime for imdb_id tt0054442 found: 104.0\n",
            "runtime for imdb_id tt0050263 found: 103.0\n",
            "runtime for imdb_id tt0094010 found: 93.0\n",
            "runtime for imdb_id tt0055140 found: 96.0\n",
            "runtime for imdb_id tt1147760 found: 72.0\n",
            "runtime for imdb_id tt0319371 found: 95.0\n",
            "runtime for imdb_id tt0051683 found: 103.0\n",
            "runtime for imdb_id tt3902698 found: 112.0\n",
            "runtime for imdb_id tt0069794 found: 110.0\n",
            "runtime for imdb_id tt1694539 found: 88.0\n",
            "runtime for imdb_id tt2328487 found: 79.0\n",
            "runtime for imdb_id tt2461908 found: 94.0\n",
            "runtime for imdb_id tt3761504 found: 105.0\n",
            "runtime for imdb_id tt3107708 found: 98.0\n",
            "runtime for imdb_id tt1285243 found: 94.0\n",
            "runtime for imdb_id tt1523406 found: 86.0\n",
            "runtime for imdb_id tt0043533 found: 98.0\n",
            "runtime for imdb_id tt0200108 found: 100.0\n",
            "runtime for imdb_id tt2759292 found: 94.0\n",
            "runtime for imdb_id tt2107874 found: 89.0\n",
            "runtime for imdb_id tt4254516 found: 107.0\n",
            "runtime for imdb_id tt0846787 found: 124.0\n",
            "runtime for imdb_id tt0156091 found: 90.0\n",
            "runtime for imdb_id tt1339686 found: 152.0\n",
            "runtime for imdb_id tt3104102 found: 91.0\n",
            "runtime for imdb_id tt0140428 found: 105.0\n",
            "runtime for imdb_id tt0067719 found: 114.0\n",
            "runtime for imdb_id tt4522716 found: 113.0\n",
            "runtime for imdb_id tt0117026 found: 94.0\n",
            "runtime for imdb_id tt4483262 found: 100.0\n",
            "runtime for imdb_id tt0385363 found: 83.0\n",
            "runtime for imdb_id tt0240659 found: 147.0\n",
            "runtime for imdb_id tt0050813 found: 92.0\n",
            "runtime for imdb_id tt0096828 found: 105.0\n",
            "runtime for imdb_id tt0182667 found: 78.0\n",
            "runtime for imdb_id tt0194283 found: 92.0\n",
            "runtime for imdb_id tt3638690 found: 88.0\n",
            "runtime for imdb_id tt0097913 found: 102.0\n",
            "runtime for imdb_id tt0078010 found: 100.0\n",
            "runtime for imdb_id tt0161052 found: 102.0\n",
            "runtime for imdb_id tt3358470 found: 86.0\n",
            "runtime for imdb_id tt3358470 found: 86.0\n",
            "runtime for imdb_id tt1143145 found: 67.0\n",
            "runtime for imdb_id tt1143145 found: 67.0\n",
            "runtime for imdb_id tt0272087 found: 105.0\n",
            "runtime for imdb_id tt0272087 found: 105.0\n",
            "runtime for imdb_id tt2572160 found: 87.0\n",
            "runtime for imdb_id tt2572160 found: 87.0\n",
            "runtime for imdb_id tt3463014 found: 100.0\n",
            "runtime for imdb_id tt3463014 found: 100.0\n",
            "runtime for imdb_id tt1851050 found: 80.0\n",
            "runtime for imdb_id tt1851050 found: 80.0\n",
            "runtime for imdb_id tt3625354 found: 91.0\n",
            "runtime for imdb_id tt3625354 found: 91.0\n",
            "runtime for imdb_id tt0402065 found: 88.0\n",
            "runtime for imdb_id tt1014691 found: 105.0\n",
            "runtime for imdb_id tt4123562 found: 85.0\n",
            "runtime for imdb_id tt3956642 found: 9.0\n",
            "runtime for imdb_id tt3956642 found: 9.0\n",
            "runtime for imdb_id tt0045880 found: 90.0\n",
            "runtime for imdb_id tt0424810 found: 48.0\n",
            "runtime for imdb_id tt0424810 found: 48.0\n",
            "runtime for imdb_id tt0152196 found: 88.0\n",
            "runtime for imdb_id tt0051644 found: 85.0\n",
            "runtime for imdb_id tt0180817 found: 85.0\n",
            "runtime for imdb_id tt0922525 found: 89.0\n",
            "runtime for imdb_id tt0070469 found: 97.0\n",
            "runtime for imdb_id tt0397363 found: 94.0\n",
            "runtime for imdb_id tt0054827 found: 88.0\n",
            "runtime for imdb_id tt1104080 found: 90.0\n",
            "runtime for imdb_id tt0304483 found: 82.0\n",
            "runtime for imdb_id tt0379065 found: 85.0\n",
            "runtime for imdb_id tt1256505 found: 87.0\n",
            "runtime for imdb_id tt1251370 found: 88.0\n",
            "runtime for imdb_id tt2738218 found: 79.0\n",
            "runtime for imdb_id tt2557954 found: 90.0\n",
            "runtime for imdb_id tt5133288 found: 94.0\n",
            "runtime for imdb_id tt3499870 found: 52.0\n",
            "runtime for imdb_id tt3499870 found: 52.0\n",
            "runtime for imdb_id tt0134854 found: 93.0\n",
            "runtime for imdb_id tt2468606 found: 89.0\n",
            "runtime for imdb_id tt3610264 found: 74.0\n",
            "runtime for imdb_id tt0205281 found: 69.0\n",
            "runtime for imdb_id tt0183225 found: 92.0\n",
            "runtime for imdb_id tt0285963 found: 103.0\n",
            "runtime for imdb_id tt3262112 found: 93.0\n",
            "runtime for imdb_id tt0304876 found: 81.0\n",
            "runtime for imdb_id tt0450061 found: 55.0\n",
            "runtime for imdb_id tt0450061 found: 55.0\n",
            "runtime for imdb_id tt0208485 found: 84.0\n",
            "runtime for imdb_id tt0244992 found: 72.0\n",
            "runtime for imdb_id tt1379210 found: 115.0\n",
            "runtime for imdb_id tt5256706 found: 92.0\n",
            "runtime for imdb_id tt0082131 found: 93.0\n",
            "runtime for imdb_id tt0139683 found: 90.0\n",
            "runtime for imdb_id tt0098239 found: 116.0\n",
            "runtime for imdb_id tt4644144 found: 90.0\n",
            "runtime for imdb_id tt3341620 found: 95.0\n",
            "runtime for imdb_id tt0120250 found: 93.0\n",
            "runtime for imdb_id tt0216313 found: 86.0\n",
            "runtime for imdb_id tt0216315 found: 90.0\n",
            "runtime for imdb_id tt0239632 found: 105.0\n",
            "runtime for imdb_id tt5502346 found: 115.0\n",
            "runtime for imdb_id tt2192844 found: 90.0\n",
            "runtime for imdb_id tt0098030 found: 124.0\n",
            "runtime for imdb_id tt2753492 found: 90.0\n",
            "runtime for imdb_id tt2146038 found: 59.0\n",
            "runtime for imdb_id tt2146038 found: 59.0\n",
            "runtime for imdb_id tt5786508 found: 100.0\n",
            "runtime for imdb_id tt4298406 found: 70.0\n",
            "runtime for imdb_id tt3390724 found: 68.0\n",
            "runtime for imdb_id tt0047843 found: 72.0\n",
            "runtime for imdb_id tt2547100 found: 89.0\n",
            "runtime for imdb_id tt2129885 found: 59.0\n",
            "runtime for imdb_id tt2129885 found: 59.0\n",
            "runtime for imdb_id tt1479358 found: 59.0\n",
            "runtime for imdb_id tt1479358 found: 59.0\n",
            "runtime for imdb_id tt0099065 found: 80.0\n",
            "runtime for imdb_id tt3425030 found: 58.0\n",
            "runtime for imdb_id tt3425030 found: 58.0\n",
            "runtime for imdb_id tt2782754 found: 90.0\n",
            "runtime for imdb_id tt0378361 found: 90.0\n",
            "runtime for imdb_id tt5172306 found: 76.0\n",
            "runtime for imdb_id tt3221210 found: 89.0\n",
            "runtime for imdb_id tt1571570 found: 104.0\n",
            "runtime for imdb_id tt4555674 found: 87.0\n",
            "runtime for imdb_id tt3446626 found: 100.0\n",
            "runtime for imdb_id tt5662556 found: 92.0\n",
            "runtime for imdb_id tt3439092 found: 87.0\n",
            "runtime for imdb_id tt5968964 found: 92.0\n",
            "runtime for imdb_id tt0065934 found: 85.0\n",
            "runtime for imdb_id tt0230505 found: 92.0\n",
            "runtime for imdb_id tt0181600 found: 89.0\n",
            "runtime for imdb_id tt6304968 found: 92.0\n",
            "runtime for imdb_id tt6113490 found: 30.0\n",
            "runtime for imdb_id tt6113490 found: 30.0\n",
            "runtime for imdb_id tt4626160 found: 116.0\n",
            "runtime for imdb_id tt3778394 found: 85.0\n",
            "runtime for imdb_id tt0416829 found: 95.0\n",
            "runtime for imdb_id tt4464270 found: 93.0\n",
            "runtime for imdb_id tt0095861 found: 92.0\n",
            "runtime for imdb_id tt3283664 found: 100.0\n",
            "runtime for imdb_id tt4069316 found: 99.0\n",
            "runtime for imdb_id tt3447830 found: 90.0\n",
            "runtime for imdb_id tt2392451 found: 90.0\n",
            "runtime for imdb_id tt6601954 found: 101.0\n",
            "runtime for imdb_id tt1107828 found: 130.0\n",
            "runtime for imdb_id tt0252249 found: 86.0\n",
            "runtime for imdb_id tt1526284 found: 102.0\n",
            "runtime for imdb_id tt0264051 found: 88.0\n",
            "runtime for imdb_id tt0252562 found: 89.0\n",
            "runtime for imdb_id tt0253616 found: 93.0\n",
            "runtime for imdb_id tt6721848 found: 110.0\n",
            "runtime for imdb_id tt0462640 found: 72.0\n",
            "runtime for imdb_id tt0165844 found: 20.0\n",
            "runtime for imdb_id tt0165844 found: 20.0\n",
            "runtime for imdb_id tt1821599 found: 91.0\n",
            "runtime for imdb_id tt0187534 found: 90.0\n",
            "runtime for imdb_id tt0055468 found: 68.0\n",
            "runtime for imdb_id tt0423061 found: 85.0\n",
            "runtime for imdb_id tt1322330 found: 94.0\n",
            "runtime for imdb_id tt1586262 found: 176.0\n",
            "runtime for imdb_id tt3792994 found: 105.0\n",
            "runtime for imdb_id tt5584176 found: 90.0\n",
            "runtime for imdb_id tt0079730 found: 161.0\n",
            "runtime for imdb_id tt0174446 found: 90.0\n",
            "runtime for imdb_id tt0167501 found: 72.0\n",
            "runtime for imdb_id tt2327471 found: 17.0\n",
            "runtime for imdb_id tt2327471 found: 17.0\n",
            "runtime for imdb_id tt0030428 found: 43.0\n",
            "runtime for imdb_id tt0030428 found: 43.0\n",
            "runtime for imdb_id tt0191353 found: 105.0\n",
            "runtime for imdb_id tt5792762 found: 97.0\n",
            "runtime for imdb_id tt6597454 found: 85.0\n",
            "runtime for imdb_id tt0043059 found: 95.0\n",
            "runtime for imdb_id tt0039653 found: 87.0\n",
            "runtime for imdb_id tt3332372 found: 112.0\n",
            "runtime for imdb_id tt1717147 found: 13.0\n",
            "runtime for imdb_id tt1717147 found: 13.0\n",
            "runtime for imdb_id tt0066660 found: 86.0\n",
            "runtime for imdb_id tt0361769 found: 89.0\n",
            "runtime for imdb_id tt0441908 found: 87.0\n",
            "runtime for imdb_id tt4112020 found: 70.0\n",
            "runtime for imdb_id tt0098035 found: 107.0\n",
            "runtime for imdb_id tt0070695 found: 101.0\n",
            "runtime for imdb_id tt0321264 found: 105.0\n"
          ]
        }
      ]
    },
    {
      "cell_type": "code",
      "source": [
        "# Replacing missing runtime values with scraped values\n",
        "for idx, runtime in zip(missing_runtime_idx, scraped_runtimes):\n",
        "  df2.at[idx, 'runtime'] = runtime"
      ],
      "metadata": {
        "id": "d3kVKxLMW22o"
      },
      "execution_count": null,
      "outputs": []
    },
    {
      "cell_type": "code",
      "source": [
        "# Replacing missing values in 'tagline' column with empty string\n",
        "df2['tagline'] = df2['tagline'].fillna('')"
      ],
      "metadata": {
        "id": "5zcslMvrUYro"
      },
      "execution_count": null,
      "outputs": []
    },
    {
      "cell_type": "code",
      "source": [
        "# Dropping row with missing 'cast' value\n",
        "df2.drop(df2[df2['cast'].isna()].index.tolist(), axis=0, inplace=True)"
      ],
      "metadata": {
        "id": "r1R8TVBewEF1"
      },
      "execution_count": null,
      "outputs": []
    },
    {
      "cell_type": "code",
      "source": [
        "# Checking for null values\n",
        "df2.isna().sum()"
      ],
      "metadata": {
        "colab": {
          "base_uri": "https://localhost:8080/",
          "height": 805
        },
        "id": "4zVCob5na_gf",
        "outputId": "4860c1f0-3cbd-4218-894a-95c153296ed2"
      },
      "execution_count": null,
      "outputs": [
        {
          "output_type": "execute_result",
          "data": {
            "text/plain": [
              "adult                    0\n",
              "belongs_to_collection    0\n",
              "budget                   0\n",
              "genres                   0\n",
              "id                       0\n",
              "imdb_id                  0\n",
              "original_language        0\n",
              "overview                 0\n",
              "popularity               0\n",
              "production_companies     0\n",
              "production_countries     0\n",
              "revenue                  0\n",
              "runtime                  0\n",
              "spoken_languages         0\n",
              "status                   0\n",
              "tagline                  0\n",
              "title                    0\n",
              "vote_average             0\n",
              "vote_count               0\n",
              "cast                     0\n",
              "crew                     0\n",
              "keywords                 0\n",
              "release_year             0\n",
              "dtype: int64"
            ],
            "text/html": [
              "<div>\n",
              "<style scoped>\n",
              "    .dataframe tbody tr th:only-of-type {\n",
              "        vertical-align: middle;\n",
              "    }\n",
              "\n",
              "    .dataframe tbody tr th {\n",
              "        vertical-align: top;\n",
              "    }\n",
              "\n",
              "    .dataframe thead th {\n",
              "        text-align: right;\n",
              "    }\n",
              "</style>\n",
              "<table border=\"1\" class=\"dataframe\">\n",
              "  <thead>\n",
              "    <tr style=\"text-align: right;\">\n",
              "      <th></th>\n",
              "      <th>0</th>\n",
              "    </tr>\n",
              "  </thead>\n",
              "  <tbody>\n",
              "    <tr>\n",
              "      <th>adult</th>\n",
              "      <td>0</td>\n",
              "    </tr>\n",
              "    <tr>\n",
              "      <th>belongs_to_collection</th>\n",
              "      <td>0</td>\n",
              "    </tr>\n",
              "    <tr>\n",
              "      <th>budget</th>\n",
              "      <td>0</td>\n",
              "    </tr>\n",
              "    <tr>\n",
              "      <th>genres</th>\n",
              "      <td>0</td>\n",
              "    </tr>\n",
              "    <tr>\n",
              "      <th>id</th>\n",
              "      <td>0</td>\n",
              "    </tr>\n",
              "    <tr>\n",
              "      <th>imdb_id</th>\n",
              "      <td>0</td>\n",
              "    </tr>\n",
              "    <tr>\n",
              "      <th>original_language</th>\n",
              "      <td>0</td>\n",
              "    </tr>\n",
              "    <tr>\n",
              "      <th>overview</th>\n",
              "      <td>0</td>\n",
              "    </tr>\n",
              "    <tr>\n",
              "      <th>popularity</th>\n",
              "      <td>0</td>\n",
              "    </tr>\n",
              "    <tr>\n",
              "      <th>production_companies</th>\n",
              "      <td>0</td>\n",
              "    </tr>\n",
              "    <tr>\n",
              "      <th>production_countries</th>\n",
              "      <td>0</td>\n",
              "    </tr>\n",
              "    <tr>\n",
              "      <th>revenue</th>\n",
              "      <td>0</td>\n",
              "    </tr>\n",
              "    <tr>\n",
              "      <th>runtime</th>\n",
              "      <td>0</td>\n",
              "    </tr>\n",
              "    <tr>\n",
              "      <th>spoken_languages</th>\n",
              "      <td>0</td>\n",
              "    </tr>\n",
              "    <tr>\n",
              "      <th>status</th>\n",
              "      <td>0</td>\n",
              "    </tr>\n",
              "    <tr>\n",
              "      <th>tagline</th>\n",
              "      <td>0</td>\n",
              "    </tr>\n",
              "    <tr>\n",
              "      <th>title</th>\n",
              "      <td>0</td>\n",
              "    </tr>\n",
              "    <tr>\n",
              "      <th>vote_average</th>\n",
              "      <td>0</td>\n",
              "    </tr>\n",
              "    <tr>\n",
              "      <th>vote_count</th>\n",
              "      <td>0</td>\n",
              "    </tr>\n",
              "    <tr>\n",
              "      <th>cast</th>\n",
              "      <td>0</td>\n",
              "    </tr>\n",
              "    <tr>\n",
              "      <th>crew</th>\n",
              "      <td>0</td>\n",
              "    </tr>\n",
              "    <tr>\n",
              "      <th>keywords</th>\n",
              "      <td>0</td>\n",
              "    </tr>\n",
              "    <tr>\n",
              "      <th>release_year</th>\n",
              "      <td>0</td>\n",
              "    </tr>\n",
              "  </tbody>\n",
              "</table>\n",
              "</div><br><label><b>dtype:</b> int64</label>"
            ]
          },
          "metadata": {},
          "execution_count": 114
        }
      ]
    },
    {
      "cell_type": "code",
      "source": [
        "# Dropping duplicate rows (sharing imdb_id)\n",
        "df2 = df2.drop_duplicates(subset='imdb_id')"
      ],
      "metadata": {
        "id": "Sehx_IIJteTW"
      },
      "execution_count": null,
      "outputs": []
    },
    {
      "cell_type": "markdown",
      "source": [
        "# Data Visualization\n",
        "\n",
        "Now that we've cleaned our data, let's create some visualizations to better understand what we're working with:"
      ],
      "metadata": {
        "id": "VGIzIbWM0slt"
      }
    },
    {
      "cell_type": "code",
      "source": [
        "plt.figure(figsize=(8,4))\n",
        "sns.histplot(data=df2,x='release_year')\n",
        "plt.title('Release Year Distribution')\n",
        "plt.xlabel('Year')\n",
        "plt.xticks(rotation=45)\n",
        "plt.show()"
      ],
      "metadata": {
        "colab": {
          "base_uri": "https://localhost:8080/",
          "height": 431
        },
        "id": "Bvrzlt4XczQM",
        "outputId": "08e38ad3-057c-48bd-ccc3-fda55f38ce18"
      },
      "execution_count": null,
      "outputs": [
        {
          "output_type": "display_data",
          "data": {
            "text/plain": [
              "<Figure size 800x400 with 1 Axes>"
            ],
            "image/png": "[encoded data removed]"
          },
          "metadata": {}
        }
      ]
    },
    {
      "cell_type": "code",
      "source": [
        "sns.histplot(data=df2,x='revenue')\n",
        "plt.title('Revenue Distribution')\n",
        "plt.show()"
      ],
      "metadata": {
        "colab": {
          "base_uri": "https://localhost:8080/",
          "height": 472
        },
        "id": "Q2ZpIvupczK3",
        "outputId": "f77f6c7f-7e55-45bf-e9b3-cacb118452e7"
      },
      "execution_count": null,
      "outputs": [
        {
          "output_type": "display_data",
          "data": {
            "text/plain": [
              "<Figure size 640x480 with 1 Axes>"
            ],
            "image/png": "[encoded data removed]"
          },
          "metadata": {}
        }
      ]
    },
    {
      "cell_type": "code",
      "source": [
        "df2['revenue'].describe()"
      ],
      "metadata": {
        "colab": {
          "base_uri": "https://localhost:8080/",
          "height": 335
        },
        "id": "eosXcpNxe_4K",
        "outputId": "f8c8e2d2-5ef3-4c63-d0cd-b7048beff4d4"
      },
      "execution_count": null,
      "outputs": [
        {
          "output_type": "execute_result",
          "data": {
            "text/plain": [
              "count    4.495600e+04\n",
              "mean     1.132960e+07\n",
              "std      6.468021e+07\n",
              "min      0.000000e+00\n",
              "25%      0.000000e+00\n",
              "50%      0.000000e+00\n",
              "75%      0.000000e+00\n",
              "max      2.787965e+09\n",
              "Name: revenue, dtype: float64"
            ],
            "text/html": [
              "<div>\n",
              "<style scoped>\n",
              "    .dataframe tbody tr th:only-of-type {\n",
              "        vertical-align: middle;\n",
              "    }\n",
              "\n",
              "    .dataframe tbody tr th {\n",
              "        vertical-align: top;\n",
              "    }\n",
              "\n",
              "    .dataframe thead th {\n",
              "        text-align: right;\n",
              "    }\n",
              "</style>\n",
              "<table border=\"1\" class=\"dataframe\">\n",
              "  <thead>\n",
              "    <tr style=\"text-align: right;\">\n",
              "      <th></th>\n",
              "      <th>revenue</th>\n",
              "    </tr>\n",
              "  </thead>\n",
              "  <tbody>\n",
              "    <tr>\n",
              "      <th>count</th>\n",
              "      <td>4.495600e+04</td>\n",
              "    </tr>\n",
              "    <tr>\n",
              "      <th>mean</th>\n",
              "      <td>1.132960e+07</td>\n",
              "    </tr>\n",
              "    <tr>\n",
              "      <th>std</th>\n",
              "      <td>6.468021e+07</td>\n",
              "    </tr>\n",
              "    <tr>\n",
              "      <th>min</th>\n",
              "      <td>0.000000e+00</td>\n",
              "    </tr>\n",
              "    <tr>\n",
              "      <th>25%</th>\n",
              "      <td>0.000000e+00</td>\n",
              "    </tr>\n",
              "    <tr>\n",
              "      <th>50%</th>\n",
              "      <td>0.000000e+00</td>\n",
              "    </tr>\n",
              "    <tr>\n",
              "      <th>75%</th>\n",
              "      <td>0.000000e+00</td>\n",
              "    </tr>\n",
              "    <tr>\n",
              "      <th>max</th>\n",
              "      <td>2.787965e+09</td>\n",
              "    </tr>\n",
              "  </tbody>\n",
              "</table>\n",
              "</div><br><label><b>dtype:</b> float64</label>"
            ]
          },
          "metadata": {},
          "execution_count": 43
        }
      ]
    },
    {
      "cell_type": "code",
      "source": [
        "sns.histplot(data=df2,x='budget')\n",
        "plt.title('Budget Distribution')\n",
        "plt.show()"
      ],
      "metadata": {
        "colab": {
          "base_uri": "https://localhost:8080/",
          "height": 472
        },
        "id": "vvX6R2Hu5Z9l",
        "outputId": "e1fa4d41-1683-45ed-842d-3dbe48875891"
      },
      "execution_count": null,
      "outputs": [
        {
          "output_type": "display_data",
          "data": {
            "text/plain": [
              "<Figure size 640x480 with 1 Axes>"
            ],
            "image/png": "[encoded data removed]"
          },
          "metadata": {}
        }
      ]
    },
    {
      "cell_type": "code",
      "source": [
        "df2['budget'].describe()"
      ],
      "metadata": {
        "colab": {
          "base_uri": "https://localhost:8080/",
          "height": 335
        },
        "id": "r6i0Naj15vls",
        "outputId": "8c036b0b-6aa6-424e-fb5c-7c5cf5732bf4"
      },
      "execution_count": null,
      "outputs": [
        {
          "output_type": "execute_result",
          "data": {
            "text/plain": [
              "count    4.614400e+04\n",
              "mean     4.205747e+06\n",
              "std      1.735934e+07\n",
              "min      0.000000e+00\n",
              "25%      0.000000e+00\n",
              "50%      0.000000e+00\n",
              "75%      0.000000e+00\n",
              "max      3.800000e+08\n",
              "Name: budget, dtype: float64"
            ],
            "text/html": [
              "<div>\n",
              "<style scoped>\n",
              "    .dataframe tbody tr th:only-of-type {\n",
              "        vertical-align: middle;\n",
              "    }\n",
              "\n",
              "    .dataframe tbody tr th {\n",
              "        vertical-align: top;\n",
              "    }\n",
              "\n",
              "    .dataframe thead th {\n",
              "        text-align: right;\n",
              "    }\n",
              "</style>\n",
              "<table border=\"1\" class=\"dataframe\">\n",
              "  <thead>\n",
              "    <tr style=\"text-align: right;\">\n",
              "      <th></th>\n",
              "      <th>budget</th>\n",
              "    </tr>\n",
              "  </thead>\n",
              "  <tbody>\n",
              "    <tr>\n",
              "      <th>count</th>\n",
              "      <td>4.614400e+04</td>\n",
              "    </tr>\n",
              "    <tr>\n",
              "      <th>mean</th>\n",
              "      <td>4.205747e+06</td>\n",
              "    </tr>\n",
              "    <tr>\n",
              "      <th>std</th>\n",
              "      <td>1.735934e+07</td>\n",
              "    </tr>\n",
              "    <tr>\n",
              "      <th>min</th>\n",
              "      <td>0.000000e+00</td>\n",
              "    </tr>\n",
              "    <tr>\n",
              "      <th>25%</th>\n",
              "      <td>0.000000e+00</td>\n",
              "    </tr>\n",
              "    <tr>\n",
              "      <th>50%</th>\n",
              "      <td>0.000000e+00</td>\n",
              "    </tr>\n",
              "    <tr>\n",
              "      <th>75%</th>\n",
              "      <td>0.000000e+00</td>\n",
              "    </tr>\n",
              "    <tr>\n",
              "      <th>max</th>\n",
              "      <td>3.800000e+08</td>\n",
              "    </tr>\n",
              "  </tbody>\n",
              "</table>\n",
              "</div><br><label><b>dtype:</b> float64</label>"
            ]
          },
          "metadata": {},
          "execution_count": 138
        }
      ]
    },
    {
      "cell_type": "markdown",
      "source": [
        "As we can see above, the vast majority of our budget and revenue values are 0. This is pretty disappointing, because I wanted to see the correlation between these features and average_rating. I'm going to drop these columns. Perhaps in the future, I'll create my own movie dataset."
      ],
      "metadata": {
        "id": "0Zz7rkLO5pSq"
      }
    },
    {
      "cell_type": "code",
      "source": [
        "df2.drop('budget', axis=1, inplace=True)"
      ],
      "metadata": {
        "id": "QAHFS5Zv6bDg"
      },
      "execution_count": null,
      "outputs": []
    },
    {
      "cell_type": "code",
      "source": [
        "df2.drop('revenue', axis=1, inplace=True)"
      ],
      "metadata": {
        "id": "EgJGNapye1aw"
      },
      "execution_count": null,
      "outputs": []
    },
    {
      "cell_type": "code",
      "source": [
        "plt.figure(figsize=(12,10))\n",
        "\n",
        "# Step 1: Get top 10 languages\n",
        "top_langs = df2['original_language'].value_counts().nlargest(10).index\n",
        "\n",
        "# Step 2: Filter df2 to only those languages\n",
        "df2_top_langs = df2[df2['original_language'].isin(top_langs)]\n",
        "\n",
        "# Step 3: Explode genres & reset index\n",
        "df2_top_langs_exploded = df2_top_langs.explode('genres').reset_index(drop=True)\n",
        "\n",
        "# Step 4: Plot\n",
        "sns.histplot(\n",
        "    data=df2_top_langs_exploded,\n",
        "    x='genres',\n",
        "    hue='original_language',\n",
        "    multiple='stack'\n",
        ")\n",
        "\n",
        "plt.xticks(rotation=45)\n",
        "plt.title('Genre by Language Distribution')\n",
        "plt.tight_layout()\n",
        "plt.show()"
      ],
      "metadata": {
        "colab": {
          "base_uri": "https://localhost:8080/",
          "height": 1000
        },
        "id": "DWobdNgM8Ykq",
        "outputId": "6b1a1ac3-5d73-4185-f276-652474a7af86"
      },
      "execution_count": null,
      "outputs": [
        {
          "output_type": "display_data",
          "data": {
            "text/plain": [
              "<Figure size 1200x1000 with 1 Axes>"
            ],
            "image/png": "[encoded data removed]"
          },
          "metadata": {}
        }
      ]
    },
    {
      "cell_type": "code",
      "source": [
        "plt.figure(figsize=(12,10))\n",
        "\n",
        "# Step 1: Get indices of top 5 languages after english\n",
        "top_langs = df2['original_language'].value_counts()[1:].nlargest(5).index\n",
        "\n",
        "# Step 2: Filter df2 to only those languages\n",
        "df2_top_langs = df2[df2['original_language'].isin(top_langs)]\n",
        "\n",
        "# Step 3: Explode genres & reset index\n",
        "df2_top_langs_exploded = df2_top_langs.explode('genres').reset_index(drop=True)\n",
        "\n",
        "# Step 4: Plot\n",
        "sns.histplot(\n",
        "    data=df2_top_langs_exploded,\n",
        "    x='genres',\n",
        "    hue='original_language',\n",
        "    palette='Set3',\n",
        "    multiple='stack'\n",
        ")\n",
        "\n",
        "plt.xticks(rotation=45)\n",
        "plt.title('Genre by Language Distribution')\n",
        "plt.tight_layout()\n",
        "plt.show()"
      ],
      "metadata": {
        "id": "jvOE1e849ymI",
        "colab": {
          "base_uri": "https://localhost:8080/",
          "height": 1000
        },
        "outputId": "439ab28b-98db-40a3-d009-7238c4df3c1a"
      },
      "execution_count": null,
      "outputs": [
        {
          "output_type": "display_data",
          "data": {
            "text/plain": [
              "<Figure size 1200x1000 with 1 Axes>"
            ],
            "image/png": "[encoded data removed]"
          },
          "metadata": {}
        }
      ]
    },
    {
      "cell_type": "code",
      "source": [
        "# ['vote_average','vote_count','budget','revenue','runtime']\n",
        "\n",
        "flierprops = dict(marker='D',  # Change marker shape to circle\n",
        "                  markerfacecolor='red', # Change marker face color to red\n",
        "                  markersize=4, # Increase marker size\n",
        "                  linestyle='none', # Remove line connecting markers\n",
        "                  markeredgecolor='black') # Set marker edge color\n",
        "\n",
        "fig, axes = plt.subplots(3, 2, figsize=(12, 10)) # 3 rows, 2 columns\n",
        "\n",
        "sns.histplot(data=df2,x='runtime',kde=True, bins=200,ax=axes[0][0])\n",
        "axes[0][0].set_title('Runtime Distribution')\n",
        "axes[0][0].set_xlim(0,400)\n",
        "axes[0][0].set_xlabel('Runtime (minutes)')\n",
        "\n",
        "sns.boxplot(data=df2, x='runtime', flierprops=flierprops,ax=axes[0][1])\n",
        "axes[0][1].set_title('Runtime Distribution')\n",
        "axes[0][1].set_xlabel('Runtime (minutes)')\n",
        "axes[0][1].set_xlim(right=400)\n",
        "axes[0][1].set_alpha(0.1)\n",
        "\n",
        "sns.histplot(data=df2,x='vote_average',kde=True, bins=20, ax=axes[1][0])\n",
        "axes[1][0].set_title('Average Vote Distribution')\n",
        "\n",
        "sns.boxplot(data=df2, x='vote_average', flierprops=flierprops,ax=axes[1][1])\n",
        "axes[1][1].set_title('Average Vote Distribution')\n",
        "axes[1][1].set_xlabel('Average Stars')\n",
        "# axes[1][1].plot(alpha=0.5)\n",
        "# axes[1][1].set_ylim(top=400)\n",
        "\n",
        "sns.histplot(data=df2,x='release_year',kde=True, bins=50,ax=axes[2][0])\n",
        "axes[2][0].set_title('Release Year Distribution')\n",
        "# axes[2][0].set_xlim(0,400)\n",
        "axes[2][0].set_xlabel('Year')\n",
        "\n",
        "sns.boxplot(data=df2, x='release_year', flierprops=flierprops,ax=axes[2][1])\n",
        "axes[2][1].set_title('Release Year Distribution')\n",
        "axes[2][1].set_xlabel('Year')\n",
        "# axes[2][1].set_ylim(top=400)\n",
        "axes[2][1].set_alpha(0.1)\n",
        "\n",
        "\n",
        "plt.tight_layout() # Adjust layout to prevent overlapping\n",
        "\n",
        "plt.show()"
      ],
      "metadata": {
        "colab": {
          "base_uri": "https://localhost:8080/",
          "height": 1000
        },
        "id": "TEin2SoO042n",
        "outputId": "38c311c3-4926-4ed7-da37-1500dd5b91b2"
      },
      "execution_count": null,
      "outputs": [
        {
          "output_type": "display_data",
          "data": {
            "text/plain": [
              "<Figure size 1200x1000 with 6 Axes>"
            ],
            "image/png": "[encoded data removed]"
          },
          "metadata": {}
        }
      ]
    },
    {
      "cell_type": "markdown",
      "source": [
        "# Feature Engineering\n",
        "\n",
        "In this section we'll do the following:\n",
        "* Create a copy of our dataframe\n",
        "* Engineer our features to make them more useful for recommendations\n",
        "* Remove columns that won't be used as features in our recommendation system"
      ],
      "metadata": {
        "id": "eOcor7jDku5z"
      }
    },
    {
      "cell_type": "code",
      "source": [
        "df_rec = df2.copy(deep=True) # Deep copy, changes to this copy won't be reflected in the original"
      ],
      "metadata": {
        "id": "eWSD0XCUlXCz"
      },
      "execution_count": null,
      "outputs": []
    },
    {
      "cell_type": "code",
      "source": [
        "# Creates a 'Director' column, extracts director from 'crew' column\n",
        "df_rec['Director'] = df_rec['crew'].apply(\n",
        "    lambda x: [d['name'] for d in (literal_eval(x) if isinstance(x, str) else x) if (isinstance(d, dict) and d['job'] == 'Director')]\n",
        ")"
      ],
      "metadata": {
        "id": "kgokrxPrhR_Q"
      },
      "execution_count": null,
      "outputs": []
    },
    {
      "cell_type": "code",
      "source": [
        "# Creates a 'Writers' column, extracts writers from 'crew' column\n",
        "df_rec['Writers'] = df_rec['crew'].apply(\n",
        "    lambda x: [d['name'] for d in (literal_eval(x) if isinstance(x, str) else x) if (isinstance(d, dict) and (d['job'] == 'Writer' or d['job'] == 'Screenplay'))]\n",
        ")"
      ],
      "metadata": {
        "id": "3B-lkNrgJlkg"
      },
      "execution_count": null,
      "outputs": []
    },
    {
      "cell_type": "code",
      "source": [
        "# Creating bins to group runtimes\n",
        "time_bins = [-1,40,120,180,np.inf] # bins for film length\n",
        "time_names = ['short_film','feature_film','longer_feature','epic_feature']\n",
        "df_rec['runtime_bins'] = pd.cut(df_rec['runtime'], time_bins, labels=time_names)\n",
        "\n",
        "df_rec['runtime_bins'] = df_rec['runtime_bins'].astype(str)"
      ],
      "metadata": {
        "id": "t3-7ZHfvcD7I"
      },
      "execution_count": null,
      "outputs": []
    },
    {
      "cell_type": "code",
      "source": [
        "# Creating new release_year feature: adding 'year_' to release_years value\n",
        "df_rec['release_year_feat'] = df_rec['release_year'].apply(lambda year: f'year_{str(int(year))}')"
      ],
      "metadata": {
        "id": "OagaNVgpcsoM"
      },
      "execution_count": null,
      "outputs": []
    },
    {
      "cell_type": "code",
      "source": [
        "# Creating new vote_average feature: adding 'vote_' to floor of vote_average value\n",
        "df_rec['vote_average_feat'] = df_rec['vote_average'].apply(lambda year: f'vote_{str(int(year))}')"
      ],
      "metadata": {
        "id": "7q1aKbtpkH4V"
      },
      "execution_count": null,
      "outputs": []
    },
    {
      "cell_type": "code",
      "source": [
        "# Function to join elements of a list of strings\n",
        "def join_list(x):\n",
        "    if isinstance(x, list):\n",
        "        return ' '.join(x)\n",
        "    return str(x)"
      ],
      "metadata": {
        "id": "XAIUef-YdqBL"
      },
      "execution_count": null,
      "outputs": []
    },
    {
      "cell_type": "code",
      "source": [
        "list_to_str_cols = ['genres','production_companies','production_countries','cast','keywords','Director','Writers']\n",
        "\n",
        "for col in list_to_str_cols:\n",
        "  df_rec[f'{col}_str'] = df_rec[col].apply(join_list)   # Creating new features filled with joined elements of lists of strings"
      ],
      "metadata": {
        "id": "YlYldNVLd0l9"
      },
      "execution_count": null,
      "outputs": []
    },
    {
      "cell_type": "code",
      "source": [
        "cols_to_remove = ['genres','id','production_companies','production_countries','revenue','runtime','spoken_languages','vote_average','vote_count','cast','crew','keywords','release_year','Director','Writers']\n",
        "\n",
        "# Dropping columns listed above\n",
        "df_rec.drop(columns=cols_to_remove, axis=1, inplace=True)"
      ],
      "metadata": {
        "id": "5lvFJvTaa3PV"
      },
      "execution_count": null,
      "outputs": []
    },
    {
      "cell_type": "markdown",
      "source": [
        "# Creating a Collaborative Filtering Recommendation System"
      ],
      "metadata": {
        "id": "YuVKh0tG6VMo"
      }
    },
    {
      "cell_type": "markdown",
      "source": [
        "We'll make a new column that combines all of our hand selected features. This is what we will vectorize when creating our TF-IDF embeddings. There are just a few last things we need to take care of before we vectorize:\n",
        "\n",
        "*   Convert to lowercase (prevent distinction between 'Cat' and 'cat')\n",
        "*   Lemmatize (transform words to their base form)\n",
        "*   Remove stop words (words that don't carry semantic meaning)"
      ],
      "metadata": {
        "id": "3HbQ7RHRrlnv"
      }
    },
    {
      "cell_type": "code",
      "source": [
        "from nltk.stem import WordNetLemmatizer\n",
        "from nltk.tokenize import word_tokenize\n",
        "import nltk\n",
        "from sklearn.metrics.pairwise import cosine_similarity\n",
        "from sklearn.feature_extraction.text import TfidfVectorizer\n",
        "nltk.download('punkt')\n",
        "nltk.download('wordnet')\n",
        "nltk.download('punkt_tab')"
      ],
      "metadata": {
        "colab": {
          "base_uri": "https://localhost:8080/"
        },
        "id": "ecWTjf8YStIX",
        "outputId": "dd58042f-7a22-4a9a-f06f-ceee712fc501"
      },
      "execution_count": null,
      "outputs": [
        {
          "output_type": "stream",
          "name": "stderr",
          "text": [
            "[nltk_data] Downloading package punkt to /root/nltk_data...\n",
            "[nltk_data]   Unzipping tokenizers/punkt.zip.\n",
            "[nltk_data] Downloading package wordnet to /root/nltk_data...\n",
            "[nltk_data] Downloading package punkt_tab to /root/nltk_data...\n",
            "[nltk_data]   Unzipping tokenizers/punkt_tab.zip.\n"
          ]
        },
        {
          "output_type": "execute_result",
          "data": {
            "text/plain": [
              "True"
            ]
          },
          "metadata": {},
          "execution_count": 108
        }
      ]
    },
    {
      "cell_type": "code",
      "source": [
        "lemmatizer = WordNetLemmatizer()\n",
        "\n",
        "def lemmatize_text(text):\n",
        "    tokens = word_tokenize(text)\n",
        "    return ' '.join([lemmatizer.lemmatize(token) for token in tokens])"
      ],
      "metadata": {
        "id": "iad9mTDWSvXo"
      },
      "execution_count": null,
      "outputs": []
    },
    {
      "cell_type": "code",
      "source": [
        "# Creating combined_features column\n",
        "df_rec['combined_features'] = (\n",
        "    df_rec['belongs_to_collection'] + ' ' +\n",
        "    df_rec['original_language'] + ' ' +\n",
        "    df_rec['overview'] + ' ' +\n",
        "    df_rec['tagline'] + ' ' +\n",
        "    df_rec['title'] + ' ' +\n",
        "    df_rec['runtime_bins'] + ' ' +\n",
        "    df_rec['release_year_feat'] + ' ' +\n",
        "    df_rec['vote_average_feat'] + ' ' +\n",
        "    df_rec['genres_str'] + ' ' +\n",
        "    df_rec['production_companies_str'] + ' ' +\n",
        "    df_rec['production_countries_str'] + ' ' +\n",
        "    df_rec['cast_str'] + ' ' +\n",
        "    df_rec['keywords_str'] + ' ' +\n",
        "    df_rec['Director_str'] + ' ' +\n",
        "    df_rec['Writers_str']\n",
        ")\n",
        "\n",
        "# Converting to lowercase\n",
        "df_rec['combined_features'] = df_rec['combined_features'].apply(str.lower)\n",
        "\n",
        "# Lemmatizing\n",
        "df_rec['combined_features'] = df_rec['combined_features'].apply(lemmatize_text)"
      ],
      "metadata": {
        "id": "_mGXnbRTYlj8"
      },
      "execution_count": null,
      "outputs": []
    },
    {
      "cell_type": "code",
      "source": [
        "# Reordering columns just so it's easier on the eyes\n",
        "\n",
        "df_rec = df_rec.loc[:, ['imdb_id', 'title', 'release_year_feat', 'belongs_to_collection', 'original_language', 'Director_str', 'Writers_str','cast_str', 'overview', 'tagline', 'runtime_bins',\n",
        " 'vote_average_feat', 'genres_str', 'production_companies_str', 'production_countries_str', 'keywords_str', 'combined_features']]"
      ],
      "metadata": {
        "id": "5VBq0zcrsFhm"
      },
      "execution_count": null,
      "outputs": []
    },
    {
      "cell_type": "code",
      "source": [
        "# Create TF-IDF Matrix\n",
        "\n",
        "vectorizer = TfidfVectorizer(stop_words='english') # Built in stop words removal\n",
        "X = vectorizer.fit_transform(df_rec['combined_features']) # Fits to and transforms data in one line"
      ],
      "metadata": {
        "id": "krrSlEetXGdg"
      },
      "execution_count": null,
      "outputs": []
    },
    {
      "cell_type": "code",
      "source": [
        "# Gathers recommendations using movie title\n",
        "def recommend_using_title(movie_title, df, X, top_n=10):\n",
        "    # Find the index of the movie in the DataFrame\n",
        "    idx = df[df['title'] == movie_title].index[0]\n",
        "\n",
        "    # Compute cosine similarity between this movie and all others\n",
        "    cosine_sim = cosine_similarity(X[idx], X).flatten()\n",
        "\n",
        "    # Get indices of top N similar movies (excluding itself)\n",
        "    similar_indices = cosine_sim.argsort()[-top_n-1:-1][::-1]\n",
        "\n",
        "    # Return the most similar movies\n",
        "    return df.iloc[similar_indices]"
      ],
      "metadata": {
        "id": "z0wrpYh3XGa6"
      },
      "execution_count": null,
      "outputs": []
    },
    {
      "cell_type": "markdown",
      "source": [
        "# Testing the Recommendation System"
      ],
      "metadata": {
        "id": "RzwoCoovheEI"
      }
    },
    {
      "cell_type": "code",
      "source": [
        "df_rec[df_rec['imdb_id']=='tt0103064']"
      ],
      "metadata": {
        "colab": {
          "base_uri": "https://localhost:8080/",
          "height": 205
        },
        "id": "YLTnKICSn_-9",
        "outputId": "f37c55f2-512e-4593-8c17-a4560a51180f"
      },
      "execution_count": null,
      "outputs": [
        {
          "output_type": "execute_result",
          "data": {
            "text/plain": [
              "       imdb_id                       title release_year_feat  \\\n",
              "582  tt0103064  Terminator 2: Judgment Day         year_1991   \n",
              "\n",
              "         belongs_to_collection original_language   Director_str  \\\n",
              "582  The Terminator Collection                en  James Cameron   \n",
              "\n",
              "                          Writers_str  \\\n",
              "582  James Cameron William Wisher Jr.   \n",
              "\n",
              "                                              cast_str  \\\n",
              "582  Arnold Schwarzenegger Linda Hamilton Robert Pa...   \n",
              "\n",
              "                                              overview  \\\n",
              "582  Nearly 10 years have passed since Sarah Connor...   \n",
              "\n",
              "                    tagline    runtime_bins vote_average_feat  \\\n",
              "582  It's nothing personal.  longer_feature            vote_7   \n",
              "\n",
              "                          genres_str  \\\n",
              "582  Action Thriller Science Fiction   \n",
              "\n",
              "                              production_companies_str  \\\n",
              "582  Lightstorm Entertainment Pacific Western Canal...   \n",
              "\n",
              "            production_countries_str  \\\n",
              "582  France United States of America   \n",
              "\n",
              "                                          keywords_str  \\\n",
              "582  cyborg shotgun post-apocalyptic dystopia moral...   \n",
              "\n",
              "                                     combined_features  \n",
              "582  the terminator collection en nearly 10 year ha...  "
            ],
            "text/html": [
              "\n",
              "  <div id=\"df-98b1eebb-aab7-4aba-887f-41a2cb9f0284\" class=\"colab-df-container\">\n",
              "    <div>\n",
              "<style scoped>\n",
              "    .dataframe tbody tr th:only-of-type {\n",
              "        vertical-align: middle;\n",
              "    }\n",
              "\n",
              "    .dataframe tbody tr th {\n",
              "        vertical-align: top;\n",
              "    }\n",
              "\n",
              "    .dataframe thead th {\n",
              "        text-align: right;\n",
              "    }\n",
              "</style>\n",
              "<table border=\"1\" class=\"dataframe\">\n",
              "  <thead>\n",
              "    <tr style=\"text-align: right;\">\n",
              "      <th></th>\n",
              "      <th>imdb_id</th>\n",
              "      <th>title</th>\n",
              "      <th>release_year_feat</th>\n",
              "      <th>belongs_to_collection</th>\n",
              "      <th>original_language</th>\n",
              "      <th>Director_str</th>\n",
              "      <th>Writers_str</th>\n",
              "      <th>cast_str</th>\n",
              "      <th>overview</th>\n",
              "      <th>tagline</th>\n",
              "      <th>runtime_bins</th>\n",
              "      <th>vote_average_feat</th>\n",
              "      <th>genres_str</th>\n",
              "      <th>production_companies_str</th>\n",
              "      <th>production_countries_str</th>\n",
              "      <th>keywords_str</th>\n",
              "      <th>combined_features</th>\n",
              "    </tr>\n",
              "  </thead>\n",
              "  <tbody>\n",
              "    <tr>\n",
              "      <th>582</th>\n",
              "      <td>tt0103064</td>\n",
              "      <td>Terminator 2: Judgment Day</td>\n",
              "      <td>year_1991</td>\n",
              "      <td>The Terminator Collection</td>\n",
              "      <td>en</td>\n",
              "      <td>James Cameron</td>\n",
              "      <td>James Cameron William Wisher Jr.</td>\n",
              "      <td>Arnold Schwarzenegger Linda Hamilton Robert Pa...</td>\n",
              "      <td>Nearly 10 years have passed since Sarah Connor...</td>\n",
              "      <td>It's nothing personal.</td>\n",
              "      <td>longer_feature</td>\n",
              "      <td>vote_7</td>\n",
              "      <td>Action Thriller Science Fiction</td>\n",
              "      <td>Lightstorm Entertainment Pacific Western Canal...</td>\n",
              "      <td>France United States of America</td>\n",
              "      <td>cyborg shotgun post-apocalyptic dystopia moral...</td>\n",
              "      <td>the terminator collection en nearly 10 year ha...</td>\n",
              "    </tr>\n",
              "  </tbody>\n",
              "</table>\n",
              "</div>\n",
              "    <div class=\"colab-df-buttons\">\n",
              "\n",
              "  <div class=\"colab-df-container\">\n",
              "    <button class=\"colab-df-convert\" onclick=\"convertToInteractive('df-98b1eebb-aab7-4aba-887f-41a2cb9f0284')\"\n",
              "            title=\"Convert this dataframe to an interactive table.\"\n",
              "            style=\"display:none;\">\n",
              "\n",
              "  <svg xmlns=\"http://www.w3.org/2000/svg\" height=\"24px\" viewBox=\"0 -960 960 960\">\n",
              "    <path d=\"M120-120v-720h720v720H120Zm60-500h600v-160H180v160Zm220 220h160v-160H400v160Zm0 220h160v-160H400v160ZM180-400h160v-160H180v160Zm440 0h160v-160H620v160ZM180-180h160v-160H180v160Zm440 0h160v-160H620v160Z\"/>\n",
              "  </svg>\n",
              "    </button>\n",
              "\n",
              "  <style>\n",
              "    .colab-df-container {\n",
              "      display:flex;\n",
              "      gap: 12px;\n",
              "    }\n",
              "\n",
              "    .colab-df-convert {\n",
              "      background-color: #E8F0FE;\n",
              "      border: none;\n",
              "      border-radius: 50%;\n",
              "      cursor: pointer;\n",
              "      display: none;\n",
              "      fill: #1967D2;\n",
              "      height: 32px;\n",
              "      padding: 0 0 0 0;\n",
              "      width: 32px;\n",
              "    }\n",
              "\n",
              "    .colab-df-convert:hover {\n",
              "      background-color: #E2EBFA;\n",
              "      box-shadow: 0px 1px 2px rgba(60, 64, 67, 0.3), 0px 1px 3px 1px rgba(60, 64, 67, 0.15);\n",
              "      fill: #174EA6;\n",
              "    }\n",
              "\n",
              "    .colab-df-buttons div {\n",
              "      margin-bottom: 4px;\n",
              "    }\n",
              "\n",
              "    [theme=dark] .colab-df-convert {\n",
              "      background-color: #3B4455;\n",
              "      fill: #D2E3FC;\n",
              "    }\n",
              "\n",
              "    [theme=dark] .colab-df-convert:hover {\n",
              "      background-color: #434B5C;\n",
              "      box-shadow: 0px 1px 3px 1px rgba(0, 0, 0, 0.15);\n",
              "      filter: drop-shadow(0px 1px 2px rgba(0, 0, 0, 0.3));\n",
              "      fill: #FFFFFF;\n",
              "    }\n",
              "  </style>\n",
              "\n",
              "    <script>\n",
              "      const buttonEl =\n",
              "        document.querySelector('#df-98b1eebb-aab7-4aba-887f-41a2cb9f0284 button.colab-df-convert');\n",
              "      buttonEl.style.display =\n",
              "        google.colab.kernel.accessAllowed ? 'block' : 'none';\n",
              "\n",
              "      async function convertToInteractive(key) {\n",
              "        const element = document.querySelector('#df-98b1eebb-aab7-4aba-887f-41a2cb9f0284');\n",
              "        const dataTable =\n",
              "          await google.colab.kernel.invokeFunction('convertToInteractive',\n",
              "                                                    [key], {});\n",
              "        if (!dataTable) return;\n",
              "\n",
              "        const docLinkHtml = 'Like what you see? Visit the ' +\n",
              "          '<a target=\"_blank\" href=https://colab.research.google.com/notebooks/data_table.ipynb>data table notebook</a>'\n",
              "          + ' to learn more about interactive tables.';\n",
              "        element.innerHTML = '';\n",
              "        dataTable['output_type'] = 'display_data';\n",
              "        await google.colab.output.renderOutput(dataTable, element);\n",
              "        const docLink = document.createElement('div');\n",
              "        docLink.innerHTML = docLinkHtml;\n",
              "        element.appendChild(docLink);\n",
              "      }\n",
              "    </script>\n",
              "  </div>\n",
              "\n",
              "\n",
              "    </div>\n",
              "  </div>\n"
            ],
            "application/vnd.google.colaboratory.intrinsic+json": {
              "type": "dataframe",
              "summary": "{\n  \"name\": \"df_rec[df_rec['imdb_id']=='tt0103064']\",\n  \"rows\": 1,\n  \"fields\": [\n    {\n      \"column\": \"imdb_id\",\n      \"properties\": {\n        \"dtype\": \"string\",\n        \"num_unique_values\": 1,\n        \"samples\": [\n          \"tt0103064\"\n        ],\n        \"semantic_type\": \"\",\n        \"description\": \"\"\n      }\n    },\n    {\n      \"column\": \"title\",\n      \"properties\": {\n        \"dtype\": \"string\",\n        \"num_unique_values\": 1,\n        \"samples\": [\n          \"Terminator 2: Judgment Day\"\n        ],\n        \"semantic_type\": \"\",\n        \"description\": \"\"\n      }\n    },\n    {\n      \"column\": \"release_year_feat\",\n      \"properties\": {\n        \"dtype\": \"string\",\n        \"num_unique_values\": 1,\n        \"samples\": [\n          \"year_1991\"\n        ],\n        \"semantic_type\": \"\",\n        \"description\": \"\"\n      }\n    },\n    {\n      \"column\": \"belongs_to_collection\",\n      \"properties\": {\n        \"dtype\": \"string\",\n        \"num_unique_values\": 1,\n        \"samples\": [\n          \"The Terminator Collection\"\n        ],\n        \"semantic_type\": \"\",\n        \"description\": \"\"\n      }\n    },\n    {\n      \"column\": \"original_language\",\n      \"properties\": {\n        \"dtype\": \"string\",\n        \"num_unique_values\": 1,\n        \"samples\": [\n          \"en\"\n        ],\n        \"semantic_type\": \"\",\n        \"description\": \"\"\n      }\n    },\n    {\n      \"column\": \"Director_str\",\n      \"properties\": {\n        \"dtype\": \"string\",\n        \"num_unique_values\": 1,\n        \"samples\": [\n          \"James Cameron\"\n        ],\n        \"semantic_type\": \"\",\n        \"description\": \"\"\n      }\n    },\n    {\n      \"column\": \"Writers_str\",\n      \"properties\": {\n        \"dtype\": \"string\",\n        \"num_unique_values\": 1,\n        \"samples\": [\n          \"James Cameron William Wisher Jr.\"\n        ],\n        \"semantic_type\": \"\",\n        \"description\": \"\"\n      }\n    },\n    {\n      \"column\": \"cast_str\",\n      \"properties\": {\n        \"dtype\": \"string\",\n        \"num_unique_values\": 1,\n        \"samples\": [\n          \"Arnold Schwarzenegger Linda Hamilton Robert Patrick Edward Furlong Michael Edwards Joe Morton Earl Boen Jenette Goldstein Xander Berkeley S. Epatha Merkerson Castulo Guerra Danny Cooksey Sven-Ole Thorsen DeVaughn Nixon Ken Gibbel Robert Winley Pete Schrum Don Lake Richard Vidan Jim Palmer Don Stanton Dan Stanton Colin Patrick Lynch Nikki Cox Tony Simotes Abdul Salaam El Razzac Mike Muscat Dean Norris Charles A. Tamburro Terrence Evans Denney Pierce Mark Christopher Lawrence Van Ling Gerard G. Williams Martin DeLuca Scott Shaw Joel Kramer Richard Ruskin Randy Walker William Wisher Jr. Nancy Fish Dalton Hamilton\"\n        ],\n        \"semantic_type\": \"\",\n        \"description\": \"\"\n      }\n    },\n    {\n      \"column\": \"overview\",\n      \"properties\": {\n        \"dtype\": \"string\",\n        \"num_unique_values\": 1,\n        \"samples\": [\n          \"Nearly 10 years have passed since Sarah Connor was targeted for termination by a cyborg from the future. Now her son, John, the future leader of the resistance, is the target for a newer, more deadly terminator. Once again, the resistance has managed to send a protector back to attempt to save John and his mother Sarah.\"\n        ],\n        \"semantic_type\": \"\",\n        \"description\": \"\"\n      }\n    },\n    {\n      \"column\": \"tagline\",\n      \"properties\": {\n        \"dtype\": \"string\",\n        \"num_unique_values\": 1,\n        \"samples\": [\n          \"It's nothing personal.\"\n        ],\n        \"semantic_type\": \"\",\n        \"description\": \"\"\n      }\n    },\n    {\n      \"column\": \"runtime_bins\",\n      \"properties\": {\n        \"dtype\": \"string\",\n        \"num_unique_values\": 1,\n        \"samples\": [\n          \"longer_feature\"\n        ],\n        \"semantic_type\": \"\",\n        \"description\": \"\"\n      }\n    },\n    {\n      \"column\": \"vote_average_feat\",\n      \"properties\": {\n        \"dtype\": \"string\",\n        \"num_unique_values\": 1,\n        \"samples\": [\n          \"vote_7\"\n        ],\n        \"semantic_type\": \"\",\n        \"description\": \"\"\n      }\n    },\n    {\n      \"column\": \"genres_str\",\n      \"properties\": {\n        \"dtype\": \"string\",\n        \"num_unique_values\": 1,\n        \"samples\": [\n          \"Action Thriller Science Fiction\"\n        ],\n        \"semantic_type\": \"\",\n        \"description\": \"\"\n      }\n    },\n    {\n      \"column\": \"production_companies_str\",\n      \"properties\": {\n        \"dtype\": \"string\",\n        \"num_unique_values\": 1,\n        \"samples\": [\n          \"Lightstorm Entertainment Pacific Western Canal+ Carolco Pictures T2 Productions\"\n        ],\n        \"semantic_type\": \"\",\n        \"description\": \"\"\n      }\n    },\n    {\n      \"column\": \"production_countries_str\",\n      \"properties\": {\n        \"dtype\": \"string\",\n        \"num_unique_values\": 1,\n        \"samples\": [\n          \"France United States of America\"\n        ],\n        \"semantic_type\": \"\",\n        \"description\": \"\"\n      }\n    },\n    {\n      \"column\": \"keywords_str\",\n      \"properties\": {\n        \"dtype\": \"string\",\n        \"num_unique_values\": 1,\n        \"samples\": [\n          \"cyborg shotgun post-apocalyptic dystopia moral ambiguity mental institution violence fictional war morphing nuclear weapons shape shifter savior catch phrase\"\n        ],\n        \"semantic_type\": \"\",\n        \"description\": \"\"\n      }\n    },\n    {\n      \"column\": \"combined_features\",\n      \"properties\": {\n        \"dtype\": \"string\",\n        \"num_unique_values\": 1,\n        \"samples\": [\n          \"the terminator collection en nearly 10 year have passed since sarah connor wa targeted for termination by a cyborg from the future . now her son , john , the future leader of the resistance , is the target for a newer , more deadly terminator . once again , the resistance ha managed to send a protector back to attempt to save john and his mother sarah . it 's nothing personal . terminator 2 : judgment day longer_feature year_1991 vote_7 action thriller science fiction lightstorm entertainment pacific western canal+ carolco picture t2 production france united state of america arnold schwarzenegger linda hamilton robert patrick edward furlong michael edward joe morton earl boen jenette goldstein xander berkeley s. epatha merkerson castulo guerra danny cooksey sven-ole thorsen devaughn nixon ken gibbel robert winley pete schrum don lake richard vidan jim palmer don stanton dan stanton colin patrick lynch nikki cox tony simotes abdul salaam el razzac mike muscat dean norris charles a. tamburro terrence evans denney pierce mark christopher lawrence van ling gerard g. williams martin deluca scott shaw joel kramer richard ruskin randy walker william wisher jr. nancy fish dalton hamilton cyborg shotgun post-apocalyptic dystopia moral ambiguity mental institution violence fictional war morphing nuclear weapon shape shifter savior catch phrase james cameron james cameron william wisher jr .\"\n        ],\n        \"semantic_type\": \"\",\n        \"description\": \"\"\n      }\n    }\n  ]\n}"
            }
          },
          "metadata": {},
          "execution_count": 7
        }
      ]
    },
    {
      "cell_type": "code",
      "source": [
        "# Testing recommendations using a movie title\n",
        "recommend_using_title('Toy Story',df_rec,X)"
      ],
      "metadata": {
        "colab": {
          "base_uri": "https://localhost:8080/",
          "height": 1000
        },
        "id": "HeESMubaXGX0",
        "outputId": "8dd7f098-3d18-4f56-a06b-f2e2d8979a65"
      },
      "execution_count": null,
      "outputs": [
        {
          "output_type": "execute_result",
          "data": {
            "text/plain": [
              "         imdb_id                                        title  \\\n",
              "3012   tt0120363                                  Toy Story 2   \n",
              "15444  tt0435761                                  Toy Story 3   \n",
              "22065  tt2446040                         Toy Story of Terror!   \n",
              "37878  tt0810871                               Toy Reanimator   \n",
              "25952  tt3473654                   Toy Story That Time Forgot   \n",
              "1823   tt0122718                               Small Soldiers   \n",
              "36469  tt3648510  Plastic Galaxy: The Story of Star Wars Toys   \n",
              "24672  tt2033372                                    Small Fry   \n",
              "2154   tt0105629                                         Toys   \n",
              "25850  tt0105410  Silent Night, Deadly Night 5: The Toy Maker   \n",
              "\n",
              "      release_year_feat                  belongs_to_collection  \\\n",
              "3012          year_1999                   Toy Story Collection   \n",
              "15444         year_2010                   Toy Story Collection   \n",
              "22065         year_2013                                          \n",
              "37878         year_2002                                          \n",
              "25952         year_2014                                          \n",
              "1823          year_1998                                          \n",
              "36469         year_2014                                          \n",
              "24672         year_2011                                          \n",
              "2154          year_1992                                          \n",
              "25850         year_1991  Silent Night, Deadly Night Collection   \n",
              "\n",
              "      original_language      Director_str  \\\n",
              "3012                 en     John Lasseter   \n",
              "15444                en       Lee Unkrich   \n",
              "22065                en     Angus MacLane   \n",
              "37878                ja           Hakubun   \n",
              "25952                en     Steve Purcell   \n",
              "1823                 en         Joe Dante   \n",
              "36469                en    Brian Stillman   \n",
              "24672                en     Angus MacLane   \n",
              "2154                 en    Barry Levinson   \n",
              "25850                en  Martin Kitrosser   \n",
              "\n",
              "                                             Writers_str  \\\n",
              "3012   Andrew Stanton Rita Hsiao Doug Chamberlin Chri...   \n",
              "15444                                      Michael Arndt   \n",
              "22065                                      Angus MacLane   \n",
              "37878                                    Taizo Kobayashi   \n",
              "25952                                      Steve Purcell   \n",
              "1823    Ted Elliott Terry Rossio Adam Rifkin Gavin Scott   \n",
              "36469                                     Brian Stillman   \n",
              "24672                                      Angus MacLane   \n",
              "2154                       Barry Levinson Valerie Curtin   \n",
              "25850                       Brian Yuzna Martin Kitrosser   \n",
              "\n",
              "                                                cast_str  \\\n",
              "3012   Tom Hanks Tim Allen Joan Cusack Kelsey Grammer...   \n",
              "15444  Tom Hanks Tim Allen Ned Beatty Joan Cusack Mic...   \n",
              "22065  Tom Hanks Tim Allen Kristen Schaal Carl Weathe...   \n",
              "37878              Shugo Oshinari Akaji Maro Rena Tanaka   \n",
              "25952  Tom Hanks Tim Allen Joan Cusack Kristen Schaal...   \n",
              "1823   Gregory Smith Kirsten Dunst Denis Leary Phil H...   \n",
              "36469                                                      \n",
              "24672  Lori Alan Carlos Alazraqui Tim Allen Bob Berge...   \n",
              "2154   Robin Williams Michael Gambon Joan Cusack Robi...   \n",
              "25850  William Thorne Jane Higginson Van Quattro Trac...   \n",
              "\n",
              "                                                overview  \\\n",
              "3012   Andy heads off to Cowboy Camp, leaving his toy...   \n",
              "15444  Woody, Buzz, and the rest of Andy's toys haven...   \n",
              "22065  What starts out as a fun road trip for the Toy...   \n",
              "37878  Set in a toy store specialized in antique toys...   \n",
              "25952  During a post-Christmas play date, the gang fi...   \n",
              "1823   When missile technology is used to enhance toy...   \n",
              "36469  Plastic Galaxy explores the ground breaking an...   \n",
              "24672  A fast food restaurant mini variant of Buzz fo...   \n",
              "2154   Leslie Zevo is a fun-loving inventor who must ...   \n",
              "25850  A young boy sees his father killed by a toy th...   \n",
              "\n",
              "                                  tagline  runtime_bins vote_average_feat  \\\n",
              "3012                   The toys are back!  feature_film            vote_7   \n",
              "15444            No toy gets left behind.  feature_film            vote_7   \n",
              "22065           One toy gets left behind!    short_film            vote_7   \n",
              "37878                                      feature_film            vote_0   \n",
              "25952                                        short_film            vote_6   \n",
              "1823   The few, the proud, and the small.  feature_film            vote_6   \n",
              "36469         The Story of Star Wars Toys  feature_film            vote_6   \n",
              "24672                                        short_film            vote_6   \n",
              "2154         Laughter is a state of mind.  feature_film            vote_5   \n",
              "25850    He's Home... But He's Not Alone.  feature_film            vote_5   \n",
              "\n",
              "                                            genres_str  \\\n",
              "3012                           Animation Comedy Family   \n",
              "15444                          Animation Family Comedy   \n",
              "22065                          Animation Comedy Family   \n",
              "37878                          Science Fiction Fantasy   \n",
              "25952                                 Animation Family   \n",
              "1823   Comedy Adventure Fantasy Science Fiction Action   \n",
              "36469                                      Documentary   \n",
              "24672                                 Animation Family   \n",
              "2154                    Fantasy Comedy Science Fiction   \n",
              "25850                           Horror Science Fiction   \n",
              "\n",
              "                                production_companies_str  \\\n",
              "3012                             Pixar Animation Studios   \n",
              "15444       Walt Disney Pictures Pixar Animation Studios   \n",
              "22065       Walt Disney Pictures Pixar Animation Studios   \n",
              "37878                                       Bandai Films   \n",
              "25952                            Pixar Animation Studios   \n",
              "1823   Universal Pictures Amblin Entertainment DreamW...   \n",
              "36469                                        X-Ray Films   \n",
              "24672                            Pixar Animation Studios   \n",
              "2154   Twentieth Century Fox Film Corporation Baltimo...   \n",
              "25850                            Still Silent Films Inc.   \n",
              "\n",
              "       production_countries_str  \\\n",
              "3012   United States of America   \n",
              "15444  United States of America   \n",
              "22065  United States of America   \n",
              "37878                     Japan   \n",
              "25952  United States of America   \n",
              "1823   United States of America   \n",
              "36469  United States of America   \n",
              "24672  United States of America   \n",
              "2154   United States of America   \n",
              "25850  United States of America   \n",
              "\n",
              "                                            keywords_str  \\\n",
              "3012   museum prosecution identity crisis airplane fl...   \n",
              "15444  hostage college toy barbie animation escape da...   \n",
              "22065                               halloween toys short   \n",
              "37878                                                      \n",
              "25952                                toy short toy story   \n",
              "1823   defense industry toy shop technical toy soldie...   \n",
              "36469  pop culture documentary toys space opera actio...   \n",
              "24672  fast food restaurant toys fast food toy story ...   \n",
              "2154   brother brother relationship loss of brother l...   \n",
              "25850  killer robot sequel robot holiday horror toy c...   \n",
              "\n",
              "                                       combined_features  \n",
              "3012   toy story collection en andy head off to cowbo...  \n",
              "15444  toy story collection en woody , buzz , and the...  \n",
              "22065  en what start out a a fun road trip for the to...  \n",
              "37878  ja set in a toy store specialized in antique t...  \n",
              "25952  en during a post-christmas play date , the gan...  \n",
              "1823   en when missile technology is used to enhance ...  \n",
              "36469  en plastic galaxy explores the ground breaking...  \n",
              "24672  en a fast food restaurant mini variant of buzz...  \n",
              "2154   en leslie zevo is a fun-loving inventor who mu...  \n",
              "25850  silent night , deadly night collection en a yo...  "
            ],
            "text/html": [
              "\n",
              "  <div id=\"df-1161c824-d6c5-4bf6-b2c0-fa5a8ba81fc5\" class=\"colab-df-container\">\n",
              "    <div>\n",
              "<style scoped>\n",
              "    .dataframe tbody tr th:only-of-type {\n",
              "        vertical-align: middle;\n",
              "    }\n",
              "\n",
              "    .dataframe tbody tr th {\n",
              "        vertical-align: top;\n",
              "    }\n",
              "\n",
              "    .dataframe thead th {\n",
              "        text-align: right;\n",
              "    }\n",
              "</style>\n",
              "<table border=\"1\" class=\"dataframe\">\n",
              "  <thead>\n",
              "    <tr style=\"text-align: right;\">\n",
              "      <th></th>\n",
              "      <th>imdb_id</th>\n",
              "      <th>title</th>\n",
              "      <th>release_year_feat</th>\n",
              "      <th>belongs_to_collection</th>\n",
              "      <th>original_language</th>\n",
              "      <th>Director_str</th>\n",
              "      <th>Writers_str</th>\n",
              "      <th>cast_str</th>\n",
              "      <th>overview</th>\n",
              "      <th>tagline</th>\n",
              "      <th>runtime_bins</th>\n",
              "      <th>vote_average_feat</th>\n",
              "      <th>genres_str</th>\n",
              "      <th>production_companies_str</th>\n",
              "      <th>production_countries_str</th>\n",
              "      <th>keywords_str</th>\n",
              "      <th>combined_features</th>\n",
              "    </tr>\n",
              "  </thead>\n",
              "  <tbody>\n",
              "    <tr>\n",
              "      <th>3012</th>\n",
              "      <td>tt0120363</td>\n",
              "      <td>Toy Story 2</td>\n",
              "      <td>year_1999</td>\n",
              "      <td>Toy Story Collection</td>\n",
              "      <td>en</td>\n",
              "      <td>John Lasseter</td>\n",
              "      <td>Andrew Stanton Rita Hsiao Doug Chamberlin Chri...</td>\n",
              "      <td>Tom Hanks Tim Allen Joan Cusack Kelsey Grammer...</td>\n",
              "      <td>Andy heads off to Cowboy Camp, leaving his toy...</td>\n",
              "      <td>The toys are back!</td>\n",
              "      <td>feature_film</td>\n",
              "      <td>vote_7</td>\n",
              "      <td>Animation Comedy Family</td>\n",
              "      <td>Pixar Animation Studios</td>\n",
              "      <td>United States of America</td>\n",
              "      <td>museum prosecution identity crisis airplane fl...</td>\n",
              "      <td>toy story collection en andy head off to cowbo...</td>\n",
              "    </tr>\n",
              "    <tr>\n",
              "      <th>15444</th>\n",
              "      <td>tt0435761</td>\n",
              "      <td>Toy Story 3</td>\n",
              "      <td>year_2010</td>\n",
              "      <td>Toy Story Collection</td>\n",
              "      <td>en</td>\n",
              "      <td>Lee Unkrich</td>\n",
              "      <td>Michael Arndt</td>\n",
              "      <td>Tom Hanks Tim Allen Ned Beatty Joan Cusack Mic...</td>\n",
              "      <td>Woody, Buzz, and the rest of Andy's toys haven...</td>\n",
              "      <td>No toy gets left behind.</td>\n",
              "      <td>feature_film</td>\n",
              "      <td>vote_7</td>\n",
              "      <td>Animation Family Comedy</td>\n",
              "      <td>Walt Disney Pictures Pixar Animation Studios</td>\n",
              "      <td>United States of America</td>\n",
              "      <td>hostage college toy barbie animation escape da...</td>\n",
              "      <td>toy story collection en woody , buzz , and the...</td>\n",
              "    </tr>\n",
              "    <tr>\n",
              "      <th>22065</th>\n",
              "      <td>tt2446040</td>\n",
              "      <td>Toy Story of Terror!</td>\n",
              "      <td>year_2013</td>\n",
              "      <td></td>\n",
              "      <td>en</td>\n",
              "      <td>Angus MacLane</td>\n",
              "      <td>Angus MacLane</td>\n",
              "      <td>Tom Hanks Tim Allen Kristen Schaal Carl Weathe...</td>\n",
              "      <td>What starts out as a fun road trip for the Toy...</td>\n",
              "      <td>One toy gets left behind!</td>\n",
              "      <td>short_film</td>\n",
              "      <td>vote_7</td>\n",
              "      <td>Animation Comedy Family</td>\n",
              "      <td>Walt Disney Pictures Pixar Animation Studios</td>\n",
              "      <td>United States of America</td>\n",
              "      <td>halloween toys short</td>\n",
              "      <td>en what start out a a fun road trip for the to...</td>\n",
              "    </tr>\n",
              "    <tr>\n",
              "      <th>37878</th>\n",
              "      <td>tt0810871</td>\n",
              "      <td>Toy Reanimator</td>\n",
              "      <td>year_2002</td>\n",
              "      <td></td>\n",
              "      <td>ja</td>\n",
              "      <td>Hakubun</td>\n",
              "      <td>Taizo Kobayashi</td>\n",
              "      <td>Shugo Oshinari Akaji Maro Rena Tanaka</td>\n",
              "      <td>Set in a toy store specialized in antique toys...</td>\n",
              "      <td></td>\n",
              "      <td>feature_film</td>\n",
              "      <td>vote_0</td>\n",
              "      <td>Science Fiction Fantasy</td>\n",
              "      <td>Bandai Films</td>\n",
              "      <td>Japan</td>\n",
              "      <td></td>\n",
              "      <td>ja set in a toy store specialized in antique t...</td>\n",
              "    </tr>\n",
              "    <tr>\n",
              "      <th>25952</th>\n",
              "      <td>tt3473654</td>\n",
              "      <td>Toy Story That Time Forgot</td>\n",
              "      <td>year_2014</td>\n",
              "      <td></td>\n",
              "      <td>en</td>\n",
              "      <td>Steve Purcell</td>\n",
              "      <td>Steve Purcell</td>\n",
              "      <td>Tom Hanks Tim Allen Joan Cusack Kristen Schaal...</td>\n",
              "      <td>During a post-Christmas play date, the gang fi...</td>\n",
              "      <td></td>\n",
              "      <td>short_film</td>\n",
              "      <td>vote_6</td>\n",
              "      <td>Animation Family</td>\n",
              "      <td>Pixar Animation Studios</td>\n",
              "      <td>United States of America</td>\n",
              "      <td>toy short toy story</td>\n",
              "      <td>en during a post-christmas play date , the gan...</td>\n",
              "    </tr>\n",
              "    <tr>\n",
              "      <th>1823</th>\n",
              "      <td>tt0122718</td>\n",
              "      <td>Small Soldiers</td>\n",
              "      <td>year_1998</td>\n",
              "      <td></td>\n",
              "      <td>en</td>\n",
              "      <td>Joe Dante</td>\n",
              "      <td>Ted Elliott Terry Rossio Adam Rifkin Gavin Scott</td>\n",
              "      <td>Gregory Smith Kirsten Dunst Denis Leary Phil H...</td>\n",
              "      <td>When missile technology is used to enhance toy...</td>\n",
              "      <td>The few, the proud, and the small.</td>\n",
              "      <td>feature_film</td>\n",
              "      <td>vote_6</td>\n",
              "      <td>Comedy Adventure Fantasy Science Fiction Action</td>\n",
              "      <td>Universal Pictures Amblin Entertainment DreamW...</td>\n",
              "      <td>United States of America</td>\n",
              "      <td>defense industry toy shop technical toy soldie...</td>\n",
              "      <td>en when missile technology is used to enhance ...</td>\n",
              "    </tr>\n",
              "    <tr>\n",
              "      <th>36469</th>\n",
              "      <td>tt3648510</td>\n",
              "      <td>Plastic Galaxy: The Story of Star Wars Toys</td>\n",
              "      <td>year_2014</td>\n",
              "      <td></td>\n",
              "      <td>en</td>\n",
              "      <td>Brian Stillman</td>\n",
              "      <td>Brian Stillman</td>\n",
              "      <td></td>\n",
              "      <td>Plastic Galaxy explores the ground breaking an...</td>\n",
              "      <td>The Story of Star Wars Toys</td>\n",
              "      <td>feature_film</td>\n",
              "      <td>vote_6</td>\n",
              "      <td>Documentary</td>\n",
              "      <td>X-Ray Films</td>\n",
              "      <td>United States of America</td>\n",
              "      <td>pop culture documentary toys space opera actio...</td>\n",
              "      <td>en plastic galaxy explores the ground breaking...</td>\n",
              "    </tr>\n",
              "    <tr>\n",
              "      <th>24672</th>\n",
              "      <td>tt2033372</td>\n",
              "      <td>Small Fry</td>\n",
              "      <td>year_2011</td>\n",
              "      <td></td>\n",
              "      <td>en</td>\n",
              "      <td>Angus MacLane</td>\n",
              "      <td>Angus MacLane</td>\n",
              "      <td>Lori Alan Carlos Alazraqui Tim Allen Bob Berge...</td>\n",
              "      <td>A fast food restaurant mini variant of Buzz fo...</td>\n",
              "      <td></td>\n",
              "      <td>short_film</td>\n",
              "      <td>vote_6</td>\n",
              "      <td>Animation Family</td>\n",
              "      <td>Pixar Animation Studios</td>\n",
              "      <td>United States of America</td>\n",
              "      <td>fast food restaurant toys fast food toy story ...</td>\n",
              "      <td>en a fast food restaurant mini variant of buzz...</td>\n",
              "    </tr>\n",
              "    <tr>\n",
              "      <th>2154</th>\n",
              "      <td>tt0105629</td>\n",
              "      <td>Toys</td>\n",
              "      <td>year_1992</td>\n",
              "      <td></td>\n",
              "      <td>en</td>\n",
              "      <td>Barry Levinson</td>\n",
              "      <td>Barry Levinson Valerie Curtin</td>\n",
              "      <td>Robin Williams Michael Gambon Joan Cusack Robi...</td>\n",
              "      <td>Leslie Zevo is a fun-loving inventor who must ...</td>\n",
              "      <td>Laughter is a state of mind.</td>\n",
              "      <td>feature_film</td>\n",
              "      <td>vote_5</td>\n",
              "      <td>Fantasy Comedy Science Fiction</td>\n",
              "      <td>Twentieth Century Fox Film Corporation Baltimo...</td>\n",
              "      <td>United States of America</td>\n",
              "      <td>brother brother relationship loss of brother l...</td>\n",
              "      <td>en leslie zevo is a fun-loving inventor who mu...</td>\n",
              "    </tr>\n",
              "    <tr>\n",
              "      <th>25850</th>\n",
              "      <td>tt0105410</td>\n",
              "      <td>Silent Night, Deadly Night 5: The Toy Maker</td>\n",
              "      <td>year_1991</td>\n",
              "      <td>Silent Night, Deadly Night Collection</td>\n",
              "      <td>en</td>\n",
              "      <td>Martin Kitrosser</td>\n",
              "      <td>Brian Yuzna Martin Kitrosser</td>\n",
              "      <td>William Thorne Jane Higginson Van Quattro Trac...</td>\n",
              "      <td>A young boy sees his father killed by a toy th...</td>\n",
              "      <td>He's Home... But He's Not Alone.</td>\n",
              "      <td>feature_film</td>\n",
              "      <td>vote_5</td>\n",
              "      <td>Horror Science Fiction</td>\n",
              "      <td>Still Silent Films Inc.</td>\n",
              "      <td>United States of America</td>\n",
              "      <td>killer robot sequel robot holiday horror toy c...</td>\n",
              "      <td>silent night , deadly night collection en a yo...</td>\n",
              "    </tr>\n",
              "  </tbody>\n",
              "</table>\n",
              "</div>\n",
              "    <div class=\"colab-df-buttons\">\n",
              "\n",
              "  <div class=\"colab-df-container\">\n",
              "    <button class=\"colab-df-convert\" onclick=\"convertToInteractive('df-1161c824-d6c5-4bf6-b2c0-fa5a8ba81fc5')\"\n",
              "            title=\"Convert this dataframe to an interactive table.\"\n",
              "            style=\"display:none;\">\n",
              "\n",
              "  <svg xmlns=\"http://www.w3.org/2000/svg\" height=\"24px\" viewBox=\"0 -960 960 960\">\n",
              "    <path d=\"M120-120v-720h720v720H120Zm60-500h600v-160H180v160Zm220 220h160v-160H400v160Zm0 220h160v-160H400v160ZM180-400h160v-160H180v160Zm440 0h160v-160H620v160ZM180-180h160v-160H180v160Zm440 0h160v-160H620v160Z\"/>\n",
              "  </svg>\n",
              "    </button>\n",
              "\n",
              "  <style>\n",
              "    .colab-df-container {\n",
              "      display:flex;\n",
              "      gap: 12px;\n",
              "    }\n",
              "\n",
              "    .colab-df-convert {\n",
              "      background-color: #E8F0FE;\n",
              "      border: none;\n",
              "      border-radius: 50%;\n",
              "      cursor: pointer;\n",
              "      display: none;\n",
              "      fill: #1967D2;\n",
              "      height: 32px;\n",
              "      padding: 0 0 0 0;\n",
              "      width: 32px;\n",
              "    }\n",
              "\n",
              "    .colab-df-convert:hover {\n",
              "      background-color: #E2EBFA;\n",
              "      box-shadow: 0px 1px 2px rgba(60, 64, 67, 0.3), 0px 1px 3px 1px rgba(60, 64, 67, 0.15);\n",
              "      fill: #174EA6;\n",
              "    }\n",
              "\n",
              "    .colab-df-buttons div {\n",
              "      margin-bottom: 4px;\n",
              "    }\n",
              "\n",
              "    [theme=dark] .colab-df-convert {\n",
              "      background-color: #3B4455;\n",
              "      fill: #D2E3FC;\n",
              "    }\n",
              "\n",
              "    [theme=dark] .colab-df-convert:hover {\n",
              "      background-color: #434B5C;\n",
              "      box-shadow: 0px 1px 3px 1px rgba(0, 0, 0, 0.15);\n",
              "      filter: drop-shadow(0px 1px 2px rgba(0, 0, 0, 0.3));\n",
              "      fill: #FFFFFF;\n",
              "    }\n",
              "  </style>\n",
              "\n",
              "    <script>\n",
              "      const buttonEl =\n",
              "        document.querySelector('#df-1161c824-d6c5-4bf6-b2c0-fa5a8ba81fc5 button.colab-df-convert');\n",
              "      buttonEl.style.display =\n",
              "        google.colab.kernel.accessAllowed ? 'block' : 'none';\n",
              "\n",
              "      async function convertToInteractive(key) {\n",
              "        const element = document.querySelector('#df-1161c824-d6c5-4bf6-b2c0-fa5a8ba81fc5');\n",
              "        const dataTable =\n",
              "          await google.colab.kernel.invokeFunction('convertToInteractive',\n",
              "                                                    [key], {});\n",
              "        if (!dataTable) return;\n",
              "\n",
              "        const docLinkHtml = 'Like what you see? Visit the ' +\n",
              "          '<a target=\"_blank\" href=https://colab.research.google.com/notebooks/data_table.ipynb>data table notebook</a>'\n",
              "          + ' to learn more about interactive tables.';\n",
              "        element.innerHTML = '';\n",
              "        dataTable['output_type'] = 'display_data';\n",
              "        await google.colab.output.renderOutput(dataTable, element);\n",
              "        const docLink = document.createElement('div');\n",
              "        docLink.innerHTML = docLinkHtml;\n",
              "        element.appendChild(docLink);\n",
              "      }\n",
              "    </script>\n",
              "  </div>\n",
              "\n",
              "\n",
              "    <div id=\"df-d4fd1a28-78c3-4356-ba0b-1e68efd38a96\">\n",
              "      <button class=\"colab-df-quickchart\" onclick=\"quickchart('df-d4fd1a28-78c3-4356-ba0b-1e68efd38a96')\"\n",
              "                title=\"Suggest charts\"\n",
              "                style=\"display:none;\">\n",
              "\n",
              "<svg xmlns=\"http://www.w3.org/2000/svg\" height=\"24px\"viewBox=\"0 0 24 24\"\n",
              "     width=\"24px\">\n",
              "    <g>\n",
              "        <path d=\"M19 3H5c-1.1 0-2 .9-2 2v14c0 1.1.9 2 2 2h14c1.1 0 2-.9 2-2V5c0-1.1-.9-2-2-2zM9 17H7v-7h2v7zm4 0h-2V7h2v10zm4 0h-2v-4h2v4z\"/>\n",
              "    </g>\n",
              "</svg>\n",
              "      </button>\n",
              "\n",
              "<style>\n",
              "  .colab-df-quickchart {\n",
              "      --bg-color: #E8F0FE;\n",
              "      --fill-color: #1967D2;\n",
              "      --hover-bg-color: #E2EBFA;\n",
              "      --hover-fill-color: #174EA6;\n",
              "      --disabled-fill-color: #AAA;\n",
              "      --disabled-bg-color: #DDD;\n",
              "  }\n",
              "\n",
              "  [theme=dark] .colab-df-quickchart {\n",
              "      --bg-color: #3B4455;\n",
              "      --fill-color: #D2E3FC;\n",
              "      --hover-bg-color: #434B5C;\n",
              "      --hover-fill-color: #FFFFFF;\n",
              "      --disabled-bg-color: #3B4455;\n",
              "      --disabled-fill-color: #666;\n",
              "  }\n",
              "\n",
              "  .colab-df-quickchart {\n",
              "    background-color: var(--bg-color);\n",
              "    border: none;\n",
              "    border-radius: 50%;\n",
              "    cursor: pointer;\n",
              "    display: none;\n",
              "    fill: var(--fill-color);\n",
              "    height: 32px;\n",
              "    padding: 0;\n",
              "    width: 32px;\n",
              "  }\n",
              "\n",
              "  .colab-df-quickchart:hover {\n",
              "    background-color: var(--hover-bg-color);\n",
              "    box-shadow: 0 1px 2px rgba(60, 64, 67, 0.3), 0 1px 3px 1px rgba(60, 64, 67, 0.15);\n",
              "    fill: var(--button-hover-fill-color);\n",
              "  }\n",
              "\n",
              "  .colab-df-quickchart-complete:disabled,\n",
              "  .colab-df-quickchart-complete:disabled:hover {\n",
              "    background-color: var(--disabled-bg-color);\n",
              "    fill: var(--disabled-fill-color);\n",
              "    box-shadow: none;\n",
              "  }\n",
              "\n",
              "  .colab-df-spinner {\n",
              "    border: 2px solid var(--fill-color);\n",
              "    border-color: transparent;\n",
              "    border-bottom-color: var(--fill-color);\n",
              "    animation:\n",
              "      spin 1s steps(1) infinite;\n",
              "  }\n",
              "\n",
              "  @keyframes spin {\n",
              "    0% {\n",
              "      border-color: transparent;\n",
              "      border-bottom-color: var(--fill-color);\n",
              "      border-left-color: var(--fill-color);\n",
              "    }\n",
              "    20% {\n",
              "      border-color: transparent;\n",
              "      border-left-color: var(--fill-color);\n",
              "      border-top-color: var(--fill-color);\n",
              "    }\n",
              "    30% {\n",
              "      border-color: transparent;\n",
              "      border-left-color: var(--fill-color);\n",
              "      border-top-color: var(--fill-color);\n",
              "      border-right-color: var(--fill-color);\n",
              "    }\n",
              "    40% {\n",
              "      border-color: transparent;\n",
              "      border-right-color: var(--fill-color);\n",
              "      border-top-color: var(--fill-color);\n",
              "    }\n",
              "    60% {\n",
              "      border-color: transparent;\n",
              "      border-right-color: var(--fill-color);\n",
              "    }\n",
              "    80% {\n",
              "      border-color: transparent;\n",
              "      border-right-color: var(--fill-color);\n",
              "      border-bottom-color: var(--fill-color);\n",
              "    }\n",
              "    90% {\n",
              "      border-color: transparent;\n",
              "      border-bottom-color: var(--fill-color);\n",
              "    }\n",
              "  }\n",
              "</style>\n",
              "\n",
              "      <script>\n",
              "        async function quickchart(key) {\n",
              "          const quickchartButtonEl =\n",
              "            document.querySelector('#' + key + ' button');\n",
              "          quickchartButtonEl.disabled = true;  // To prevent multiple clicks.\n",
              "          quickchartButtonEl.classList.add('colab-df-spinner');\n",
              "          try {\n",
              "            const charts = await google.colab.kernel.invokeFunction(\n",
              "                'suggestCharts', [key], {});\n",
              "          } catch (error) {\n",
              "            console.error('Error during call to suggestCharts:', error);\n",
              "          }\n",
              "          quickchartButtonEl.classList.remove('colab-df-spinner');\n",
              "          quickchartButtonEl.classList.add('colab-df-quickchart-complete');\n",
              "        }\n",
              "        (() => {\n",
              "          let quickchartButtonEl =\n",
              "            document.querySelector('#df-d4fd1a28-78c3-4356-ba0b-1e68efd38a96 button');\n",
              "          quickchartButtonEl.style.display =\n",
              "            google.colab.kernel.accessAllowed ? 'block' : 'none';\n",
              "        })();\n",
              "      </script>\n",
              "    </div>\n",
              "\n",
              "    </div>\n",
              "  </div>\n"
            ],
            "application/vnd.google.colaboratory.intrinsic+json": {
              "type": "dataframe",
              "summary": "{\n  \"name\": \"recommend_using_title('Toy Story',df_rec,X)\",\n  \"rows\": 10,\n  \"fields\": [\n    {\n      \"column\": \"imdb_id\",\n      \"properties\": {\n        \"dtype\": \"string\",\n        \"num_unique_values\": 10,\n        \"samples\": [\n          \"tt0105629\",\n          \"tt0435761\",\n          \"tt0122718\"\n        ],\n        \"semantic_type\": \"\",\n        \"description\": \"\"\n      }\n    },\n    {\n      \"column\": \"title\",\n      \"properties\": {\n        \"dtype\": \"string\",\n        \"num_unique_values\": 10,\n        \"samples\": [\n          \"Toys\",\n          \"Toy Story 3\",\n          \"Small Soldiers\"\n        ],\n        \"semantic_type\": \"\",\n        \"description\": \"\"\n      }\n    },\n    {\n      \"column\": \"release_year_feat\",\n      \"properties\": {\n        \"dtype\": \"string\",\n        \"num_unique_values\": 9,\n        \"samples\": [\n          \"year_1992\",\n          \"year_2010\",\n          \"year_1998\"\n        ],\n        \"semantic_type\": \"\",\n        \"description\": \"\"\n      }\n    },\n    {\n      \"column\": \"belongs_to_collection\",\n      \"properties\": {\n        \"dtype\": \"category\",\n        \"num_unique_values\": 3,\n        \"samples\": [\n          \"Toy Story Collection\",\n          \"\",\n          \"Silent Night, Deadly Night Collection\"\n        ],\n        \"semantic_type\": \"\",\n        \"description\": \"\"\n      }\n    },\n    {\n      \"column\": \"original_language\",\n      \"properties\": {\n        \"dtype\": \"category\",\n        \"num_unique_values\": 2,\n        \"samples\": [\n          \"ja\",\n          \"en\"\n        ],\n        \"semantic_type\": \"\",\n        \"description\": \"\"\n      }\n    },\n    {\n      \"column\": \"Director_str\",\n      \"properties\": {\n        \"dtype\": \"string\",\n        \"num_unique_values\": 9,\n        \"samples\": [\n          \"Barry Levinson\",\n          \"Lee Unkrich\"\n        ],\n        \"semantic_type\": \"\",\n        \"description\": \"\"\n      }\n    },\n    {\n      \"column\": \"Writers_str\",\n      \"properties\": {\n        \"dtype\": \"string\",\n        \"num_unique_values\": 9,\n        \"samples\": [\n          \"Barry Levinson Valerie Curtin\",\n          \"Michael Arndt\"\n        ],\n        \"semantic_type\": \"\",\n        \"description\": \"\"\n      }\n    },\n    {\n      \"column\": \"cast_str\",\n      \"properties\": {\n        \"dtype\": \"string\",\n        \"num_unique_values\": 10,\n        \"samples\": [\n          \"Robin Williams Michael Gambon Joan Cusack Robin Wright Jack Warden Debi Mazar LL Cool J Donald O'Connor Arthur Malet Jamie Foxx Blake Clark\",\n          \"Tom Hanks Tim Allen Ned Beatty Joan Cusack Michael Keaton Whoopi Goldberg Bonnie Hunt Wallace Shawn John Ratzenberger Don Rickles Estelle Harris John Morris Jodi Benson Emily Hahn Laurie Metcalf Blake Clark Teddy Newton Kristen Schaal R. Lee Ermey Bud Luckey Beatrice Miller Timothy Dalton Lori Alan Jeff Garlin John Cygan Jeff Pidgeon Jack Angel Jan Rabson Richard Kind Erik von Detten Jack Willis Carlos Alazraqui Teresa Ganzel Jess Harnell Danny Mann Mickie McGowan Laraine Newman Colleen O'Shaughnessey Bob Peterson Jerome Ranft Lee Unkrich Colette Whitaker Sherry Lynn Jim Ward Frank Welker\"\n        ],\n        \"semantic_type\": \"\",\n        \"description\": \"\"\n      }\n    },\n    {\n      \"column\": \"overview\",\n      \"properties\": {\n        \"dtype\": \"string\",\n        \"num_unique_values\": 10,\n        \"samples\": [\n          \"Leslie Zevo is a fun-loving inventor who must save his late father's toy factory from his evil uncle, Leland, a war-mongering general who rules the operation with an iron fist and builds weapons disguised as toys.\",\n          \"Woody, Buzz, and the rest of Andy's toys haven't been played with in years. With Andy about to go to college, the gang find themselves accidentally left at a nefarious day care center. The toys must band together to escape and return home to Andy.\"\n        ],\n        \"semantic_type\": \"\",\n        \"description\": \"\"\n      }\n    },\n    {\n      \"column\": \"tagline\",\n      \"properties\": {\n        \"dtype\": \"string\",\n        \"num_unique_values\": 8,\n        \"samples\": [\n          \"No toy gets left behind.\",\n          \"The Story of Star Wars Toys\"\n        ],\n        \"semantic_type\": \"\",\n        \"description\": \"\"\n      }\n    },\n    {\n      \"column\": \"runtime_bins\",\n      \"properties\": {\n        \"dtype\": \"category\",\n        \"num_unique_values\": 2,\n        \"samples\": [\n          \"short_film\",\n          \"feature_film\"\n        ],\n        \"semantic_type\": \"\",\n        \"description\": \"\"\n      }\n    },\n    {\n      \"column\": \"vote_average_feat\",\n      \"properties\": {\n        \"dtype\": \"category\",\n        \"num_unique_values\": 4,\n        \"samples\": [\n          \"vote_0\",\n          \"vote_5\"\n        ],\n        \"semantic_type\": \"\",\n        \"description\": \"\"\n      }\n    },\n    {\n      \"column\": \"genres_str\",\n      \"properties\": {\n        \"dtype\": \"string\",\n        \"num_unique_values\": 8,\n        \"samples\": [\n          \"Animation Family Comedy\",\n          \"Documentary\"\n        ],\n        \"semantic_type\": \"\",\n        \"description\": \"\"\n      }\n    },\n    {\n      \"column\": \"production_companies_str\",\n      \"properties\": {\n        \"dtype\": \"string\",\n        \"num_unique_values\": 7,\n        \"samples\": [\n          \"Pixar Animation Studios\",\n          \"Walt Disney Pictures Pixar Animation Studios\"\n        ],\n        \"semantic_type\": \"\",\n        \"description\": \"\"\n      }\n    },\n    {\n      \"column\": \"production_countries_str\",\n      \"properties\": {\n        \"dtype\": \"category\",\n        \"num_unique_values\": 2,\n        \"samples\": [\n          \"Japan\",\n          \"United States of America\"\n        ],\n        \"semantic_type\": \"\",\n        \"description\": \"\"\n      }\n    },\n    {\n      \"column\": \"keywords_str\",\n      \"properties\": {\n        \"dtype\": \"string\",\n        \"num_unique_values\": 10,\n        \"samples\": [\n          \"brother brother relationship loss of brother loss of father toy company uncle toy shop technical toy inheritance\",\n          \"hostage college toy barbie animation escape day care teddy bear duringcreditsstinger toy comes to life personification inanimate objects coming to life toy story\"\n        ],\n        \"semantic_type\": \"\",\n        \"description\": \"\"\n      }\n    },\n    {\n      \"column\": \"combined_features\",\n      \"properties\": {\n        \"dtype\": \"string\",\n        \"num_unique_values\": 10,\n        \"samples\": [\n          \"en leslie zevo is a fun-loving inventor who must save his late father 's toy factory from his evil uncle , leland , a war-mongering general who rule the operation with an iron fist and build weapon disguised a toy . laughter is a state of mind . toy feature_film year_1992 vote_5 fantasy comedy science fiction twentieth century fox film corporation baltimore picture united state of america robin williams michael gambon joan cusack robin wright jack warden debi mazar ll cool j donald o'connor arthur malet jamie foxx blake clark brother brother relationship loss of brother loss of father toy company uncle toy shop technical toy inheritance barry levinson barry levinson valerie curtin\",\n          \"toy story collection en woody , buzz , and the rest of andy 's toy have n't been played with in year . with andy about to go to college , the gang find themselves accidentally left at a nefarious day care center . the toy must band together to escape and return home to andy . no toy get left behind . toy story 3 feature_film year_2010 vote_7 animation family comedy walt disney picture pixar animation studio united state of america tom hank tim allen ned beatty joan cusack michael keaton whoopi goldberg bonnie hunt wallace shawn john ratzenberger don rickles estelle harris john morris jodi benson emily hahn laurie metcalf blake clark teddy newton kristen schaal r. lee ermey bud luckey beatrice miller timothy dalton lori alan jeff garlin john cygan jeff pidgeon jack angel jan rabson richard kind erik von detten jack willis carlos alazraqui teresa ganzel jess harnell danny mann mickie mcgowan laraine newman colleen o'shaughnessey bob peterson jerome ranft lee unkrich colette whitaker sherry lynn jim ward frank welker hostage college toy barbie animation escape day care teddy bear duringcreditsstinger toy come to life personification inanimate object coming to life toy story lee unkrich michael arndt\"\n        ],\n        \"semantic_type\": \"\",\n        \"description\": \"\"\n      }\n    }\n  ]\n}"
            }
          },
          "metadata": {},
          "execution_count": 7
        }
      ]
    },
    {
      "cell_type": "markdown",
      "source": [
        "That's great! So long as a movie exists in our database, we can input a title and gather similar results. There are many things we can do to improve the quality of the results, but this is a good start."
      ],
      "metadata": {
        "id": "dn-56-85PprH"
      }
    },
    {
      "cell_type": "markdown",
      "source": [
        "# Creating an Interactive Input Form\n",
        "\n",
        "What I'd like to do build a simple interactive form to gather the user's movie preferences. These preferences would be used to create a synthetic movie profile, which would be vectorized and compared to the 450000+ movie vectors in our database."
      ],
      "metadata": {
        "id": "PSJ9Fm2rOdBb"
      }
    },
    {
      "cell_type": "code",
      "source": [
        "import ipywidgets as widgets\n",
        "from IPython.display import display\n",
        "from collections import Counter"
      ],
      "metadata": {
        "id": "nMQZ_8dFQwvw"
      },
      "execution_count": null,
      "outputs": []
    },
    {
      "cell_type": "code",
      "source": [
        "# Gathers list of unique values for a given column sorted by frequency\n",
        "def get_unique_values(column):\n",
        "  all_values_sorted = Counter(' '.join(df_cbf[column].tolist()).split()).most_common()\n",
        "  unique_values_sorted = []\n",
        "  for item, count in all_values_sorted:\n",
        "    unique_values_sorted.append(item)\n",
        "  return unique_values_sorted"
      ],
      "metadata": {
        "id": "zfrFAPh-SCnj"
      },
      "execution_count": null,
      "outputs": []
    },
    {
      "cell_type": "code",
      "source": [
        "# Widgets for user input\n",
        "title_input = widgets.Text(description=\"Title:\")\n",
        "genres_input = widgets.Text(description=\"Genres:\")\n",
        "companies_input = widgets.Text(description=\"Companies:\")\n",
        "language_input = widgets.Text(description=\"Language:\")\n",
        "overview_input = widgets.Textarea(description=\"Overview:\")\n",
        "runtime_input = widgets.Dropdown(\n",
        "    options=['', 'short_film', 'feature_film', 'longer_feature', 'epic_feature'],\n",
        "    description='Runtime:'\n",
        ")\n",
        "rating_input = widgets.FloatSlider(\n",
        "    min=0, max=10, step=0.1, description=\"Rating:\"\n",
        ")\n",
        "year_input = widgets.IntSlider(\n",
        "    min=1900, max=2025, step=1, description=\"Year:\"\n",
        ")\n",
        "\n",
        "button = widgets.Button(description=\"Find Recommendations\")\n",
        "\n",
        "output = widgets.Output()\n",
        "\n",
        "def recommend_from_input(_):\n",
        "    # Gather all inputs\n",
        "    user_features = [\n",
        "        title_input.value,\n",
        "        genres_input.value,\n",
        "        companies_input.value,\n",
        "        language_input.value,\n",
        "        overview_input.value,\n",
        "        runtime_input.value,\n",
        "        f\"rating_{rating_input.value}\" if rating_input.value else '',\n",
        "        f\"year_{year_input.value}\" if year_input.value else ''\n",
        "    ]\n",
        "\n",
        "    # Combine into a single string (similar format to how df['combined_features'] is made)\n",
        "    combined_user_features = ' '.join([str(f) for f in user_features if f])\n",
        "\n",
        "    # Vectorize user input using the existing TF-IDF vectorizer\n",
        "    user_vector = vectorizer.transform([combined_user_features])\n",
        "\n",
        "    # Compute cosine similarity\n",
        "    sim_scores = cosine_similarity(user_vector, X).flatten()\n",
        "\n",
        "    # Get top 10 similar indices\n",
        "    top_indices = sim_scores.argsort()[-10:][::-1]\n",
        "\n",
        "    # Display recommendations\n",
        "    with output:\n",
        "        output.clear_output()\n",
        "        display(df_rec.iloc[top_indices][['genres_str','title', 'release_year_feat']])\n",
        "\n",
        "button.on_click(recommend_from_input)\n",
        "\n",
        "# Display the form\n",
        "display(\n",
        "    title_input, genres_input, companies_input,\n",
        "    language_input, overview_input, runtime_input, rating_input, year_input,\n",
        "    button, output\n",
        ")"
      ],
      "metadata": {
        "id": "TBOl13k0j7wc"
      },
      "execution_count": null,
      "outputs": []
    }
  ]
}